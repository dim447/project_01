{
  "nbformat": 4,
  "nbformat_minor": 0,
  "metadata": {
    "colab": {
      "provenance": [],
      "authorship_tag": "ABX9TyM5Br8yKtkscTa6xWiKgDJW",
      "include_colab_link": true
    },
    "kernelspec": {
      "name": "python3",
      "display_name": "Python 3"
    },
    "language_info": {
      "name": "python"
    }
  },
  "cells": [
    {
      "cell_type": "markdown",
      "metadata": {
        "id": "view-in-github",
        "colab_type": "text"
      },
      "source": [
        "<a href=\"https://colab.research.google.com/github/dim447/project_01/blob/master/FitoFarm01_08.ipynb\" target=\"_parent\"><img src=\"https://colab.research.google.com/assets/colab-badge.svg\" alt=\"Open In Colab\"/></a>"
      ]
    },
    {
      "cell_type": "markdown",
      "source": [
        "# **Задачи исследования**\n",
        "\n",
        "### Загружаем данные и объединяем три датасета - ОЗОН позволяется выгружать данные за 3 месяца.\n",
        "\n",
        "\n",
        "\n",
        "*1. Осмотр данных*\n",
        "- посмотрим начало и конец датасета\n",
        "- сделаем предварительные выводы\n",
        "- поищем аномалии\n",
        "\n",
        "\n",
        "\n",
        "*2. Обработка данных*\n",
        "- найти и обработать пропуски\n",
        "- заменить некорректные типы данных\n",
        "- удалить дубликаты\n",
        "- подсчитать и добавить цену квадратного метра\n",
        "- добавить месяц - вместо даты название месяца\n",
        "- посмотреть разную статистику, связь товара и склада отгрузки,региона доставки\n",
        "\n",
        "\n",
        "*3. Ответы на вопросы*\n",
        "- Какой самый популярный чай? Укажите наиболее важные характеристики\n",
        "и постройте графики?\n",
        "- Какую сумму приносит каждая позиция?\n",
        "- Какие регионы больше всего покупают, какие склады использовать?\n",
        "- Как загружены склады отгрузки?\n",
        "- Проверим куда больше отправляют товар по каждой позиции!\n",
        "\n",
        "\n",
        "\n",
        "*4. Результаты исследования*\n",
        "- Общие выводы\n",
        "- Рекомендации\n",
        "\n",
        "\n",
        "*Описание данных:*\n",
        "\n",
        "*   'Дата отгрузки' - Дата отгрузки товара\n",
        "*   'Месяц отгрузки' - Месяц выделяем из даты\n",
        "*   'Наименование товара' - Наименование товара\n",
        "*   'Итоговая стоимость товара' - Сумма продажи товара\n",
        "*   'Количество' - Количество отгруженного товара\n",
        "*   'Кластер отгрузки' - Логистика ОЗОН\n",
        "*   'Кластер доставки' - Логистика ОЗОН\n",
        "*   'Склад отгрузки' - Склад отгрузки ОЗОН\n",
        "*   'Регион доставки' - Регион доставки товара\n",
        "*   'Город доставки' - Город доставки товара (не всегда указан)\n"
      ],
      "metadata": {
        "id": "cr9zIX9Ej8AI"
      }
    },
    {
      "cell_type": "markdown",
      "source": [
        "### Загружаем данные и объединяем три датасета"
      ],
      "metadata": {
        "id": "WjHUksq3ozzM"
      }
    },
    {
      "cell_type": "code",
      "execution_count": 1,
      "metadata": {
        "colab": {
          "base_uri": "https://localhost:8080/"
        },
        "id": "oyz0sxllXXLr",
        "outputId": "e8f357fc-7e3c-490b-a6f8-57766f2072f5"
      },
      "outputs": [
        {
          "output_type": "execute_result",
          "data": {
            "text/plain": [
              "(2606, 32)"
            ]
          },
          "metadata": {},
          "execution_count": 1
        }
      ],
      "source": [
        "import pandas as pd\n",
        "from datetime import datetime\n",
        "\n",
        "df01 = pd.read_csv('/content/orders01_03.csv', sep=';')\n",
        "df02 = pd.read_csv('/content/orders04_06.csv', sep=';')\n",
        "df03 = pd.read_csv('/content/orders07_08.csv', sep=';')\n",
        "df = pd.concat([df01, df02, df03])\n",
        "df.shape\n"
      ]
    },
    {
      "cell_type": "code",
      "source": [
        "df.head(5)"
      ],
      "metadata": {
        "colab": {
          "base_uri": "https://localhost:8080/",
          "height": 501
        },
        "id": "deMi68wGZ1gp",
        "outputId": "b6b798aa-dc41-4a24-c259-b8c04f7ec088"
      },
      "execution_count": 30,
      "outputs": [
        {
          "output_type": "execute_result",
          "data": {
            "text/plain": [
              "        Дата отгрузки Месяц отгрузки  \\\n",
              "0 2023-04-01 02:00:00          April   \n",
              "1 2023-04-01 01:00:00          April   \n",
              "2 2023-04-01 02:00:00          April   \n",
              "3 2023-04-01 01:30:00          April   \n",
              "4 2023-04-06 01:00:00          April   \n",
              "\n",
              "                                 Наименование товара  \\\n",
              "0  Чай травяной Друг Вашего сна ф/п 1.5г №20 / 20...   \n",
              "1  Чай липы цветки 50г/ травяной сбор \"Целебная П...   \n",
              "2  Чай травяной Друг Вашего сна ф/п 1.5г №20 / 20...   \n",
              "3  Чай мяты перечной листья 50г/ травяной сбор \"Ц...   \n",
              "4  Чай травяной Друг Вашего желудка ф/п 1.5г №20 ...   \n",
              "\n",
              "   Итоговая стоимость товара  Количество       Кластер отгрузки  \\\n",
              "0                      157.0           1                     Юг   \n",
              "1                      318.0           1  Санкт-Петербург и СЗО   \n",
              "2                      157.0           1                     Юг   \n",
              "3                      260.0           1                   Урал   \n",
              "4                      157.0           1  Санкт-Петербург и СЗО   \n",
              "\n",
              "        Кластер доставки          Склад отгрузки  \\\n",
              "0                Вологда            АДЫГЕЙСК_РФЦ   \n",
              "1  Санкт-Петербург Север           СПБ_БУГРЫ_РФЦ   \n",
              "2                Вологда            АДЫГЕЙСК_РФЦ   \n",
              "3                 Сургут  ЕКАТЕРИНБУРГ_РФЦ_НОВЫЙ   \n",
              "4  Санкт-Петербург Север           СПБ_БУГРЫ_РФЦ   \n",
              "\n",
              "                            Регион доставки   Город доставки  \n",
              "0                       Вологодская Область          Вологда  \n",
              "1                           Санкт-Петербург  Санкт-Петербург  \n",
              "2                       Вологодская Область          Вологда  \n",
              "3  Ханты-Мансийский Автономный округ - Югра           Нягань  \n",
              "4                           Санкт-Петербург  Санкт-Петербург  "
            ],
            "text/html": [
              "\n",
              "  <div id=\"df-0a7ec85c-7d7e-4909-8e54-c2208a94eb3a\" class=\"colab-df-container\">\n",
              "    <div>\n",
              "<style scoped>\n",
              "    .dataframe tbody tr th:only-of-type {\n",
              "        vertical-align: middle;\n",
              "    }\n",
              "\n",
              "    .dataframe tbody tr th {\n",
              "        vertical-align: top;\n",
              "    }\n",
              "\n",
              "    .dataframe thead th {\n",
              "        text-align: right;\n",
              "    }\n",
              "</style>\n",
              "<table border=\"1\" class=\"dataframe\">\n",
              "  <thead>\n",
              "    <tr style=\"text-align: right;\">\n",
              "      <th></th>\n",
              "      <th>Дата отгрузки</th>\n",
              "      <th>Месяц отгрузки</th>\n",
              "      <th>Наименование товара</th>\n",
              "      <th>Итоговая стоимость товара</th>\n",
              "      <th>Количество</th>\n",
              "      <th>Кластер отгрузки</th>\n",
              "      <th>Кластер доставки</th>\n",
              "      <th>Склад отгрузки</th>\n",
              "      <th>Регион доставки</th>\n",
              "      <th>Город доставки</th>\n",
              "    </tr>\n",
              "  </thead>\n",
              "  <tbody>\n",
              "    <tr>\n",
              "      <th>0</th>\n",
              "      <td>2023-04-01 02:00:00</td>\n",
              "      <td>April</td>\n",
              "      <td>Чай травяной Друг Вашего сна ф/п 1.5г №20 / 20...</td>\n",
              "      <td>157.0</td>\n",
              "      <td>1</td>\n",
              "      <td>Юг</td>\n",
              "      <td>Вологда</td>\n",
              "      <td>АДЫГЕЙСК_РФЦ</td>\n",
              "      <td>Вологодская Область</td>\n",
              "      <td>Вологда</td>\n",
              "    </tr>\n",
              "    <tr>\n",
              "      <th>1</th>\n",
              "      <td>2023-04-01 01:00:00</td>\n",
              "      <td>April</td>\n",
              "      <td>Чай липы цветки 50г/ травяной сбор \"Целебная П...</td>\n",
              "      <td>318.0</td>\n",
              "      <td>1</td>\n",
              "      <td>Санкт-Петербург и СЗО</td>\n",
              "      <td>Санкт-Петербург Север</td>\n",
              "      <td>СПБ_БУГРЫ_РФЦ</td>\n",
              "      <td>Санкт-Петербург</td>\n",
              "      <td>Санкт-Петербург</td>\n",
              "    </tr>\n",
              "    <tr>\n",
              "      <th>2</th>\n",
              "      <td>2023-04-01 02:00:00</td>\n",
              "      <td>April</td>\n",
              "      <td>Чай травяной Друг Вашего сна ф/п 1.5г №20 / 20...</td>\n",
              "      <td>157.0</td>\n",
              "      <td>1</td>\n",
              "      <td>Юг</td>\n",
              "      <td>Вологда</td>\n",
              "      <td>АДЫГЕЙСК_РФЦ</td>\n",
              "      <td>Вологодская Область</td>\n",
              "      <td>Вологда</td>\n",
              "    </tr>\n",
              "    <tr>\n",
              "      <th>3</th>\n",
              "      <td>2023-04-01 01:30:00</td>\n",
              "      <td>April</td>\n",
              "      <td>Чай мяты перечной листья 50г/ травяной сбор \"Ц...</td>\n",
              "      <td>260.0</td>\n",
              "      <td>1</td>\n",
              "      <td>Урал</td>\n",
              "      <td>Сургут</td>\n",
              "      <td>ЕКАТЕРИНБУРГ_РФЦ_НОВЫЙ</td>\n",
              "      <td>Ханты-Мансийский Автономный округ - Югра</td>\n",
              "      <td>Нягань</td>\n",
              "    </tr>\n",
              "    <tr>\n",
              "      <th>4</th>\n",
              "      <td>2023-04-06 01:00:00</td>\n",
              "      <td>April</td>\n",
              "      <td>Чай травяной Друг Вашего желудка ф/п 1.5г №20 ...</td>\n",
              "      <td>157.0</td>\n",
              "      <td>1</td>\n",
              "      <td>Санкт-Петербург и СЗО</td>\n",
              "      <td>Санкт-Петербург Север</td>\n",
              "      <td>СПБ_БУГРЫ_РФЦ</td>\n",
              "      <td>Санкт-Петербург</td>\n",
              "      <td>Санкт-Петербург</td>\n",
              "    </tr>\n",
              "  </tbody>\n",
              "</table>\n",
              "</div>\n",
              "    <div class=\"colab-df-buttons\">\n",
              "\n",
              "  <div class=\"colab-df-container\">\n",
              "    <button class=\"colab-df-convert\" onclick=\"convertToInteractive('df-0a7ec85c-7d7e-4909-8e54-c2208a94eb3a')\"\n",
              "            title=\"Convert this dataframe to an interactive table.\"\n",
              "            style=\"display:none;\">\n",
              "\n",
              "  <svg xmlns=\"http://www.w3.org/2000/svg\" height=\"24px\" viewBox=\"0 -960 960 960\">\n",
              "    <path d=\"M120-120v-720h720v720H120Zm60-500h600v-160H180v160Zm220 220h160v-160H400v160Zm0 220h160v-160H400v160ZM180-400h160v-160H180v160Zm440 0h160v-160H620v160ZM180-180h160v-160H180v160Zm440 0h160v-160H620v160Z\"/>\n",
              "  </svg>\n",
              "    </button>\n",
              "\n",
              "  <style>\n",
              "    .colab-df-container {\n",
              "      display:flex;\n",
              "      gap: 12px;\n",
              "    }\n",
              "\n",
              "    .colab-df-convert {\n",
              "      background-color: #E8F0FE;\n",
              "      border: none;\n",
              "      border-radius: 50%;\n",
              "      cursor: pointer;\n",
              "      display: none;\n",
              "      fill: #1967D2;\n",
              "      height: 32px;\n",
              "      padding: 0 0 0 0;\n",
              "      width: 32px;\n",
              "    }\n",
              "\n",
              "    .colab-df-convert:hover {\n",
              "      background-color: #E2EBFA;\n",
              "      box-shadow: 0px 1px 2px rgba(60, 64, 67, 0.3), 0px 1px 3px 1px rgba(60, 64, 67, 0.15);\n",
              "      fill: #174EA6;\n",
              "    }\n",
              "\n",
              "    .colab-df-buttons div {\n",
              "      margin-bottom: 4px;\n",
              "    }\n",
              "\n",
              "    [theme=dark] .colab-df-convert {\n",
              "      background-color: #3B4455;\n",
              "      fill: #D2E3FC;\n",
              "    }\n",
              "\n",
              "    [theme=dark] .colab-df-convert:hover {\n",
              "      background-color: #434B5C;\n",
              "      box-shadow: 0px 1px 3px 1px rgba(0, 0, 0, 0.15);\n",
              "      filter: drop-shadow(0px 1px 2px rgba(0, 0, 0, 0.3));\n",
              "      fill: #FFFFFF;\n",
              "    }\n",
              "  </style>\n",
              "\n",
              "    <script>\n",
              "      const buttonEl =\n",
              "        document.querySelector('#df-0a7ec85c-7d7e-4909-8e54-c2208a94eb3a button.colab-df-convert');\n",
              "      buttonEl.style.display =\n",
              "        google.colab.kernel.accessAllowed ? 'block' : 'none';\n",
              "\n",
              "      async function convertToInteractive(key) {\n",
              "        const element = document.querySelector('#df-0a7ec85c-7d7e-4909-8e54-c2208a94eb3a');\n",
              "        const dataTable =\n",
              "          await google.colab.kernel.invokeFunction('convertToInteractive',\n",
              "                                                    [key], {});\n",
              "        if (!dataTable) return;\n",
              "\n",
              "        const docLinkHtml = 'Like what you see? Visit the ' +\n",
              "          '<a target=\"_blank\" href=https://colab.research.google.com/notebooks/data_table.ipynb>data table notebook</a>'\n",
              "          + ' to learn more about interactive tables.';\n",
              "        element.innerHTML = '';\n",
              "        dataTable['output_type'] = 'display_data';\n",
              "        await google.colab.output.renderOutput(dataTable, element);\n",
              "        const docLink = document.createElement('div');\n",
              "        docLink.innerHTML = docLinkHtml;\n",
              "        element.appendChild(docLink);\n",
              "      }\n",
              "    </script>\n",
              "  </div>\n",
              "\n",
              "\n",
              "<div id=\"df-d42a71a9-279b-4fea-967d-7ef1c6227295\">\n",
              "  <button class=\"colab-df-quickchart\" onclick=\"quickchart('df-d42a71a9-279b-4fea-967d-7ef1c6227295')\"\n",
              "            title=\"Suggest charts.\"\n",
              "            style=\"display:none;\">\n",
              "\n",
              "<svg xmlns=\"http://www.w3.org/2000/svg\" height=\"24px\"viewBox=\"0 0 24 24\"\n",
              "     width=\"24px\">\n",
              "    <g>\n",
              "        <path d=\"M19 3H5c-1.1 0-2 .9-2 2v14c0 1.1.9 2 2 2h14c1.1 0 2-.9 2-2V5c0-1.1-.9-2-2-2zM9 17H7v-7h2v7zm4 0h-2V7h2v10zm4 0h-2v-4h2v4z\"/>\n",
              "    </g>\n",
              "</svg>\n",
              "  </button>\n",
              "\n",
              "<style>\n",
              "  .colab-df-quickchart {\n",
              "      --bg-color: #E8F0FE;\n",
              "      --fill-color: #1967D2;\n",
              "      --hover-bg-color: #E2EBFA;\n",
              "      --hover-fill-color: #174EA6;\n",
              "      --disabled-fill-color: #AAA;\n",
              "      --disabled-bg-color: #DDD;\n",
              "  }\n",
              "\n",
              "  [theme=dark] .colab-df-quickchart {\n",
              "      --bg-color: #3B4455;\n",
              "      --fill-color: #D2E3FC;\n",
              "      --hover-bg-color: #434B5C;\n",
              "      --hover-fill-color: #FFFFFF;\n",
              "      --disabled-bg-color: #3B4455;\n",
              "      --disabled-fill-color: #666;\n",
              "  }\n",
              "\n",
              "  .colab-df-quickchart {\n",
              "    background-color: var(--bg-color);\n",
              "    border: none;\n",
              "    border-radius: 50%;\n",
              "    cursor: pointer;\n",
              "    display: none;\n",
              "    fill: var(--fill-color);\n",
              "    height: 32px;\n",
              "    padding: 0;\n",
              "    width: 32px;\n",
              "  }\n",
              "\n",
              "  .colab-df-quickchart:hover {\n",
              "    background-color: var(--hover-bg-color);\n",
              "    box-shadow: 0 1px 2px rgba(60, 64, 67, 0.3), 0 1px 3px 1px rgba(60, 64, 67, 0.15);\n",
              "    fill: var(--button-hover-fill-color);\n",
              "  }\n",
              "\n",
              "  .colab-df-quickchart-complete:disabled,\n",
              "  .colab-df-quickchart-complete:disabled:hover {\n",
              "    background-color: var(--disabled-bg-color);\n",
              "    fill: var(--disabled-fill-color);\n",
              "    box-shadow: none;\n",
              "  }\n",
              "\n",
              "  .colab-df-spinner {\n",
              "    border: 2px solid var(--fill-color);\n",
              "    border-color: transparent;\n",
              "    border-bottom-color: var(--fill-color);\n",
              "    animation:\n",
              "      spin 1s steps(1) infinite;\n",
              "  }\n",
              "\n",
              "  @keyframes spin {\n",
              "    0% {\n",
              "      border-color: transparent;\n",
              "      border-bottom-color: var(--fill-color);\n",
              "      border-left-color: var(--fill-color);\n",
              "    }\n",
              "    20% {\n",
              "      border-color: transparent;\n",
              "      border-left-color: var(--fill-color);\n",
              "      border-top-color: var(--fill-color);\n",
              "    }\n",
              "    30% {\n",
              "      border-color: transparent;\n",
              "      border-left-color: var(--fill-color);\n",
              "      border-top-color: var(--fill-color);\n",
              "      border-right-color: var(--fill-color);\n",
              "    }\n",
              "    40% {\n",
              "      border-color: transparent;\n",
              "      border-right-color: var(--fill-color);\n",
              "      border-top-color: var(--fill-color);\n",
              "    }\n",
              "    60% {\n",
              "      border-color: transparent;\n",
              "      border-right-color: var(--fill-color);\n",
              "    }\n",
              "    80% {\n",
              "      border-color: transparent;\n",
              "      border-right-color: var(--fill-color);\n",
              "      border-bottom-color: var(--fill-color);\n",
              "    }\n",
              "    90% {\n",
              "      border-color: transparent;\n",
              "      border-bottom-color: var(--fill-color);\n",
              "    }\n",
              "  }\n",
              "</style>\n",
              "\n",
              "  <script>\n",
              "    async function quickchart(key) {\n",
              "      const quickchartButtonEl =\n",
              "        document.querySelector('#' + key + ' button');\n",
              "      quickchartButtonEl.disabled = true;  // To prevent multiple clicks.\n",
              "      quickchartButtonEl.classList.add('colab-df-spinner');\n",
              "      try {\n",
              "        const charts = await google.colab.kernel.invokeFunction(\n",
              "            'suggestCharts', [key], {});\n",
              "      } catch (error) {\n",
              "        console.error('Error during call to suggestCharts:', error);\n",
              "      }\n",
              "      quickchartButtonEl.classList.remove('colab-df-spinner');\n",
              "      quickchartButtonEl.classList.add('colab-df-quickchart-complete');\n",
              "    }\n",
              "    (() => {\n",
              "      let quickchartButtonEl =\n",
              "        document.querySelector('#df-d42a71a9-279b-4fea-967d-7ef1c6227295 button');\n",
              "      quickchartButtonEl.style.display =\n",
              "        google.colab.kernel.accessAllowed ? 'block' : 'none';\n",
              "    })();\n",
              "  </script>\n",
              "</div>\n",
              "    </div>\n",
              "  </div>\n"
            ]
          },
          "metadata": {},
          "execution_count": 30
        }
      ]
    },
    {
      "cell_type": "code",
      "source": [
        "df.tail(5)"
      ],
      "metadata": {
        "colab": {
          "base_uri": "https://localhost:8080/",
          "height": 521
        },
        "id": "DpwN_0Grktv-",
        "outputId": "20716126-eff5-477c-88db-0fb93db6dea9"
      },
      "execution_count": 31,
      "outputs": [
        {
          "output_type": "execute_result",
          "data": {
            "text/plain": [
              "          Дата отгрузки Месяц отгрузки  \\\n",
              "683 2023-07-03 01:00:00           July   \n",
              "684 2023-07-02 15:00:00           July   \n",
              "685 2023-07-06 13:30:00           July   \n",
              "686 2023-07-05 00:00:00           July   \n",
              "687 2023-07-02 01:00:00           July   \n",
              "\n",
              "                                   Наименование товара  \\\n",
              "683  Чай травяной Друг Вашего иммунитета ф/п 1.5г №...   \n",
              "684  Чай травяной Друг Вашей поджелудочной железы ф...   \n",
              "685  Чай травяной Друг Вашей печени ф/п 1.5г №20 /2...   \n",
              "686  Чай травяной Друг Вашего желудка ф/п 1.5г №20 ...   \n",
              "687  Чай травяной Друг Вашей печени ф/п 1.5г №20 /2...   \n",
              "\n",
              "     Итоговая стоимость товара  Количество       Кластер отгрузки  \\\n",
              "683                      173.0           1  Санкт-Петербург и СЗО   \n",
              "684                      154.0           1                   Урал   \n",
              "685                      179.0           1  Санкт-Петербург и СЗО   \n",
              "686                      170.0           1                     Юг   \n",
              "687                      179.0           1  Санкт-Петербург и СЗО   \n",
              "\n",
              "             Кластер доставки          Склад отгрузки        Регион доставки  \\\n",
              "683        Санкт-Петербург Юг           СПБ_БУГРЫ_РФЦ        Санкт-Петербург   \n",
              "684                     Пермь  ЕКАТЕРИНБУРГ_РФЦ_НОВЫЙ          Пермский Край   \n",
              "685              Петрозаводск           СПБ_БУГРЫ_РФЦ     Республика Карелия   \n",
              "686                 Краснодар       НОВОРОССИЙСК_МРФЦ     Краснодарский Край   \n",
              "687  Ленинградская область Юг     САНКТ-ПЕТЕРБУРГ_РФЦ  Ленинградская Область   \n",
              "\n",
              "      Город доставки  \n",
              "683  Санкт-Петербург  \n",
              "684              NaN  \n",
              "685              NaN  \n",
              "686              NaN  \n",
              "687            Тосно  "
            ],
            "text/html": [
              "\n",
              "  <div id=\"df-2c14ef2a-3de3-4884-b3da-1e0b66e15756\" class=\"colab-df-container\">\n",
              "    <div>\n",
              "<style scoped>\n",
              "    .dataframe tbody tr th:only-of-type {\n",
              "        vertical-align: middle;\n",
              "    }\n",
              "\n",
              "    .dataframe tbody tr th {\n",
              "        vertical-align: top;\n",
              "    }\n",
              "\n",
              "    .dataframe thead th {\n",
              "        text-align: right;\n",
              "    }\n",
              "</style>\n",
              "<table border=\"1\" class=\"dataframe\">\n",
              "  <thead>\n",
              "    <tr style=\"text-align: right;\">\n",
              "      <th></th>\n",
              "      <th>Дата отгрузки</th>\n",
              "      <th>Месяц отгрузки</th>\n",
              "      <th>Наименование товара</th>\n",
              "      <th>Итоговая стоимость товара</th>\n",
              "      <th>Количество</th>\n",
              "      <th>Кластер отгрузки</th>\n",
              "      <th>Кластер доставки</th>\n",
              "      <th>Склад отгрузки</th>\n",
              "      <th>Регион доставки</th>\n",
              "      <th>Город доставки</th>\n",
              "    </tr>\n",
              "  </thead>\n",
              "  <tbody>\n",
              "    <tr>\n",
              "      <th>683</th>\n",
              "      <td>2023-07-03 01:00:00</td>\n",
              "      <td>July</td>\n",
              "      <td>Чай травяной Друг Вашего иммунитета ф/п 1.5г №...</td>\n",
              "      <td>173.0</td>\n",
              "      <td>1</td>\n",
              "      <td>Санкт-Петербург и СЗО</td>\n",
              "      <td>Санкт-Петербург Юг</td>\n",
              "      <td>СПБ_БУГРЫ_РФЦ</td>\n",
              "      <td>Санкт-Петербург</td>\n",
              "      <td>Санкт-Петербург</td>\n",
              "    </tr>\n",
              "    <tr>\n",
              "      <th>684</th>\n",
              "      <td>2023-07-02 15:00:00</td>\n",
              "      <td>July</td>\n",
              "      <td>Чай травяной Друг Вашей поджелудочной железы ф...</td>\n",
              "      <td>154.0</td>\n",
              "      <td>1</td>\n",
              "      <td>Урал</td>\n",
              "      <td>Пермь</td>\n",
              "      <td>ЕКАТЕРИНБУРГ_РФЦ_НОВЫЙ</td>\n",
              "      <td>Пермский Край</td>\n",
              "      <td>NaN</td>\n",
              "    </tr>\n",
              "    <tr>\n",
              "      <th>685</th>\n",
              "      <td>2023-07-06 13:30:00</td>\n",
              "      <td>July</td>\n",
              "      <td>Чай травяной Друг Вашей печени ф/п 1.5г №20 /2...</td>\n",
              "      <td>179.0</td>\n",
              "      <td>1</td>\n",
              "      <td>Санкт-Петербург и СЗО</td>\n",
              "      <td>Петрозаводск</td>\n",
              "      <td>СПБ_БУГРЫ_РФЦ</td>\n",
              "      <td>Республика Карелия</td>\n",
              "      <td>NaN</td>\n",
              "    </tr>\n",
              "    <tr>\n",
              "      <th>686</th>\n",
              "      <td>2023-07-05 00:00:00</td>\n",
              "      <td>July</td>\n",
              "      <td>Чай травяной Друг Вашего желудка ф/п 1.5г №20 ...</td>\n",
              "      <td>170.0</td>\n",
              "      <td>1</td>\n",
              "      <td>Юг</td>\n",
              "      <td>Краснодар</td>\n",
              "      <td>НОВОРОССИЙСК_МРФЦ</td>\n",
              "      <td>Краснодарский Край</td>\n",
              "      <td>NaN</td>\n",
              "    </tr>\n",
              "    <tr>\n",
              "      <th>687</th>\n",
              "      <td>2023-07-02 01:00:00</td>\n",
              "      <td>July</td>\n",
              "      <td>Чай травяной Друг Вашей печени ф/п 1.5г №20 /2...</td>\n",
              "      <td>179.0</td>\n",
              "      <td>1</td>\n",
              "      <td>Санкт-Петербург и СЗО</td>\n",
              "      <td>Ленинградская область Юг</td>\n",
              "      <td>САНКТ-ПЕТЕРБУРГ_РФЦ</td>\n",
              "      <td>Ленинградская Область</td>\n",
              "      <td>Тосно</td>\n",
              "    </tr>\n",
              "  </tbody>\n",
              "</table>\n",
              "</div>\n",
              "    <div class=\"colab-df-buttons\">\n",
              "\n",
              "  <div class=\"colab-df-container\">\n",
              "    <button class=\"colab-df-convert\" onclick=\"convertToInteractive('df-2c14ef2a-3de3-4884-b3da-1e0b66e15756')\"\n",
              "            title=\"Convert this dataframe to an interactive table.\"\n",
              "            style=\"display:none;\">\n",
              "\n",
              "  <svg xmlns=\"http://www.w3.org/2000/svg\" height=\"24px\" viewBox=\"0 -960 960 960\">\n",
              "    <path d=\"M120-120v-720h720v720H120Zm60-500h600v-160H180v160Zm220 220h160v-160H400v160Zm0 220h160v-160H400v160ZM180-400h160v-160H180v160Zm440 0h160v-160H620v160ZM180-180h160v-160H180v160Zm440 0h160v-160H620v160Z\"/>\n",
              "  </svg>\n",
              "    </button>\n",
              "\n",
              "  <style>\n",
              "    .colab-df-container {\n",
              "      display:flex;\n",
              "      gap: 12px;\n",
              "    }\n",
              "\n",
              "    .colab-df-convert {\n",
              "      background-color: #E8F0FE;\n",
              "      border: none;\n",
              "      border-radius: 50%;\n",
              "      cursor: pointer;\n",
              "      display: none;\n",
              "      fill: #1967D2;\n",
              "      height: 32px;\n",
              "      padding: 0 0 0 0;\n",
              "      width: 32px;\n",
              "    }\n",
              "\n",
              "    .colab-df-convert:hover {\n",
              "      background-color: #E2EBFA;\n",
              "      box-shadow: 0px 1px 2px rgba(60, 64, 67, 0.3), 0px 1px 3px 1px rgba(60, 64, 67, 0.15);\n",
              "      fill: #174EA6;\n",
              "    }\n",
              "\n",
              "    .colab-df-buttons div {\n",
              "      margin-bottom: 4px;\n",
              "    }\n",
              "\n",
              "    [theme=dark] .colab-df-convert {\n",
              "      background-color: #3B4455;\n",
              "      fill: #D2E3FC;\n",
              "    }\n",
              "\n",
              "    [theme=dark] .colab-df-convert:hover {\n",
              "      background-color: #434B5C;\n",
              "      box-shadow: 0px 1px 3px 1px rgba(0, 0, 0, 0.15);\n",
              "      filter: drop-shadow(0px 1px 2px rgba(0, 0, 0, 0.3));\n",
              "      fill: #FFFFFF;\n",
              "    }\n",
              "  </style>\n",
              "\n",
              "    <script>\n",
              "      const buttonEl =\n",
              "        document.querySelector('#df-2c14ef2a-3de3-4884-b3da-1e0b66e15756 button.colab-df-convert');\n",
              "      buttonEl.style.display =\n",
              "        google.colab.kernel.accessAllowed ? 'block' : 'none';\n",
              "\n",
              "      async function convertToInteractive(key) {\n",
              "        const element = document.querySelector('#df-2c14ef2a-3de3-4884-b3da-1e0b66e15756');\n",
              "        const dataTable =\n",
              "          await google.colab.kernel.invokeFunction('convertToInteractive',\n",
              "                                                    [key], {});\n",
              "        if (!dataTable) return;\n",
              "\n",
              "        const docLinkHtml = 'Like what you see? Visit the ' +\n",
              "          '<a target=\"_blank\" href=https://colab.research.google.com/notebooks/data_table.ipynb>data table notebook</a>'\n",
              "          + ' to learn more about interactive tables.';\n",
              "        element.innerHTML = '';\n",
              "        dataTable['output_type'] = 'display_data';\n",
              "        await google.colab.output.renderOutput(dataTable, element);\n",
              "        const docLink = document.createElement('div');\n",
              "        docLink.innerHTML = docLinkHtml;\n",
              "        element.appendChild(docLink);\n",
              "      }\n",
              "    </script>\n",
              "  </div>\n",
              "\n",
              "\n",
              "<div id=\"df-7dbca8f1-559b-4254-b23f-a450e10f17f4\">\n",
              "  <button class=\"colab-df-quickchart\" onclick=\"quickchart('df-7dbca8f1-559b-4254-b23f-a450e10f17f4')\"\n",
              "            title=\"Suggest charts.\"\n",
              "            style=\"display:none;\">\n",
              "\n",
              "<svg xmlns=\"http://www.w3.org/2000/svg\" height=\"24px\"viewBox=\"0 0 24 24\"\n",
              "     width=\"24px\">\n",
              "    <g>\n",
              "        <path d=\"M19 3H5c-1.1 0-2 .9-2 2v14c0 1.1.9 2 2 2h14c1.1 0 2-.9 2-2V5c0-1.1-.9-2-2-2zM9 17H7v-7h2v7zm4 0h-2V7h2v10zm4 0h-2v-4h2v4z\"/>\n",
              "    </g>\n",
              "</svg>\n",
              "  </button>\n",
              "\n",
              "<style>\n",
              "  .colab-df-quickchart {\n",
              "      --bg-color: #E8F0FE;\n",
              "      --fill-color: #1967D2;\n",
              "      --hover-bg-color: #E2EBFA;\n",
              "      --hover-fill-color: #174EA6;\n",
              "      --disabled-fill-color: #AAA;\n",
              "      --disabled-bg-color: #DDD;\n",
              "  }\n",
              "\n",
              "  [theme=dark] .colab-df-quickchart {\n",
              "      --bg-color: #3B4455;\n",
              "      --fill-color: #D2E3FC;\n",
              "      --hover-bg-color: #434B5C;\n",
              "      --hover-fill-color: #FFFFFF;\n",
              "      --disabled-bg-color: #3B4455;\n",
              "      --disabled-fill-color: #666;\n",
              "  }\n",
              "\n",
              "  .colab-df-quickchart {\n",
              "    background-color: var(--bg-color);\n",
              "    border: none;\n",
              "    border-radius: 50%;\n",
              "    cursor: pointer;\n",
              "    display: none;\n",
              "    fill: var(--fill-color);\n",
              "    height: 32px;\n",
              "    padding: 0;\n",
              "    width: 32px;\n",
              "  }\n",
              "\n",
              "  .colab-df-quickchart:hover {\n",
              "    background-color: var(--hover-bg-color);\n",
              "    box-shadow: 0 1px 2px rgba(60, 64, 67, 0.3), 0 1px 3px 1px rgba(60, 64, 67, 0.15);\n",
              "    fill: var(--button-hover-fill-color);\n",
              "  }\n",
              "\n",
              "  .colab-df-quickchart-complete:disabled,\n",
              "  .colab-df-quickchart-complete:disabled:hover {\n",
              "    background-color: var(--disabled-bg-color);\n",
              "    fill: var(--disabled-fill-color);\n",
              "    box-shadow: none;\n",
              "  }\n",
              "\n",
              "  .colab-df-spinner {\n",
              "    border: 2px solid var(--fill-color);\n",
              "    border-color: transparent;\n",
              "    border-bottom-color: var(--fill-color);\n",
              "    animation:\n",
              "      spin 1s steps(1) infinite;\n",
              "  }\n",
              "\n",
              "  @keyframes spin {\n",
              "    0% {\n",
              "      border-color: transparent;\n",
              "      border-bottom-color: var(--fill-color);\n",
              "      border-left-color: var(--fill-color);\n",
              "    }\n",
              "    20% {\n",
              "      border-color: transparent;\n",
              "      border-left-color: var(--fill-color);\n",
              "      border-top-color: var(--fill-color);\n",
              "    }\n",
              "    30% {\n",
              "      border-color: transparent;\n",
              "      border-left-color: var(--fill-color);\n",
              "      border-top-color: var(--fill-color);\n",
              "      border-right-color: var(--fill-color);\n",
              "    }\n",
              "    40% {\n",
              "      border-color: transparent;\n",
              "      border-right-color: var(--fill-color);\n",
              "      border-top-color: var(--fill-color);\n",
              "    }\n",
              "    60% {\n",
              "      border-color: transparent;\n",
              "      border-right-color: var(--fill-color);\n",
              "    }\n",
              "    80% {\n",
              "      border-color: transparent;\n",
              "      border-right-color: var(--fill-color);\n",
              "      border-bottom-color: var(--fill-color);\n",
              "    }\n",
              "    90% {\n",
              "      border-color: transparent;\n",
              "      border-bottom-color: var(--fill-color);\n",
              "    }\n",
              "  }\n",
              "</style>\n",
              "\n",
              "  <script>\n",
              "    async function quickchart(key) {\n",
              "      const quickchartButtonEl =\n",
              "        document.querySelector('#' + key + ' button');\n",
              "      quickchartButtonEl.disabled = true;  // To prevent multiple clicks.\n",
              "      quickchartButtonEl.classList.add('colab-df-spinner');\n",
              "      try {\n",
              "        const charts = await google.colab.kernel.invokeFunction(\n",
              "            'suggestCharts', [key], {});\n",
              "      } catch (error) {\n",
              "        console.error('Error during call to suggestCharts:', error);\n",
              "      }\n",
              "      quickchartButtonEl.classList.remove('colab-df-spinner');\n",
              "      quickchartButtonEl.classList.add('colab-df-quickchart-complete');\n",
              "    }\n",
              "    (() => {\n",
              "      let quickchartButtonEl =\n",
              "        document.querySelector('#df-7dbca8f1-559b-4254-b23f-a450e10f17f4 button');\n",
              "      quickchartButtonEl.style.display =\n",
              "        google.colab.kernel.accessAllowed ? 'block' : 'none';\n",
              "    })();\n",
              "  </script>\n",
              "</div>\n",
              "    </div>\n",
              "  </div>\n"
            ]
          },
          "metadata": {},
          "execution_count": 31
        }
      ]
    },
    {
      "cell_type": "code",
      "source": [
        "df.columns"
      ],
      "metadata": {
        "colab": {
          "base_uri": "https://localhost:8080/"
        },
        "id": "NnF7L-0bxXtc",
        "outputId": "f6ed4886-638e-4df4-b87c-758f391d62fe"
      },
      "execution_count": 58,
      "outputs": [
        {
          "output_type": "execute_result",
          "data": {
            "text/plain": [
              "Index(['Дата отгрузки', 'Месяц отгрузки', 'Наименование товара',\n",
              "       'Итоговая стоимость товара', 'Количество', 'Кластер отгрузки',\n",
              "       'Кластер доставки', 'Склад отгрузки', 'Регион доставки',\n",
              "       'Город доставки'],\n",
              "      dtype='object')"
            ]
          },
          "metadata": {},
          "execution_count": 58
        }
      ]
    },
    {
      "cell_type": "markdown",
      "source": [
        "### Убираем ненужные колонки и выбираем случайные 5 записей"
      ],
      "metadata": {
        "id": "ZFb2TehrpDNw"
      }
    },
    {
      "cell_type": "code",
      "source": [
        "df = df.drop(['Номер заказа', 'Номер отправления', 'Принят в обработку',\n",
        "       'Статус', 'Дата доставки', 'Сумма отправления',\n",
        "       'Код валюты отправления','OZON id', 'Артикул','Связанные отправления', 'Выкуп товара',\n",
        "       'Цена товара до скидок', 'Скидка %', 'Скидка руб', 'Акции',\n",
        "       'Объемный вес товаров, кг','Способ доставки', 'Сегмент клиента', 'Юридическое лицо',\n",
        "       'Способ оплаты', 'Штрихкод ювелирного изделия','Код валюты товара','Стоимость доставки'], axis=1)\n",
        "df.sample(5)"
      ],
      "metadata": {
        "colab": {
          "base_uri": "https://localhost:8080/",
          "height": 539
        },
        "id": "RGPi8rtSaCy5",
        "outputId": "f9118385-e835-4988-a1ca-db9c3287307a"
      },
      "execution_count": 45,
      "outputs": [
        {
          "output_type": "execute_result",
          "data": {
            "text/plain": [
              "          Дата отгрузки Месяц отгрузки  \\\n",
              "343 2023-08-06 09:00:00         August   \n",
              "220 2023-05-28 22:00:00            May   \n",
              "938 2023-01-19 23:00:00        January   \n",
              "344 2023-08-07 01:00:00         August   \n",
              "105 2023-08-25 22:00:00         August   \n",
              "\n",
              "                                   Наименование товара  \\\n",
              "343  Экстракт трав в капсулах \"Друг вашей поджелудо...   \n",
              "220  Чай травяной Друг Вашей поджелудочной железы ф...   \n",
              "938  Чай травяной Друг Вашего давления ф/п 1.5г №20...   \n",
              "344  Чай травяной Друг Вашего желудка ф/п 1.5г №20 ...   \n",
              "105  Чай травяной Домбайский вальс Облепиха ф/п 1.5...   \n",
              "\n",
              "     Итоговая стоимость товара  Количество         Кластер отгрузки  \\\n",
              "343                      855.0           1              Москва и МО   \n",
              "220                      159.0           1  Центр и дальние регионы   \n",
              "938                      148.0           1    Санкт-Петербург и СЗО   \n",
              "344                      164.0           1    Санкт-Петербург и СЗО   \n",
              "105                      155.0           1                       Юг   \n",
              "\n",
              "                   Кластер доставки Склад отгрузки        Регион доставки  \\\n",
              "343                          Ростов  ЖУКОВСКИЙ_РФЦ     Ростовская Область   \n",
              "220  Москва ЮЗАО (Недействительный)  ПУШКИНО_1_РФЦ                 Москва   \n",
              "938                         Вологда  СПБ_БУГРЫ_РФЦ    Вологодская Область   \n",
              "344     Ленинградская область Север  СПБ_БУГРЫ_РФЦ  Ленинградская Область   \n",
              "105                         Воронеж   АДЫГЕЙСК_РФЦ    Воронежская Область   \n",
              "\n",
              "    Город доставки  \n",
              "343   Новочеркасск  \n",
              "220         Москва  \n",
              "938        Вологда  \n",
              "344         Мурино  \n",
              "105        Воронеж  "
            ],
            "text/html": [
              "\n",
              "  <div id=\"df-f482fc7b-be6a-42f6-b461-9b5bfbe9d7ba\" class=\"colab-df-container\">\n",
              "    <div>\n",
              "<style scoped>\n",
              "    .dataframe tbody tr th:only-of-type {\n",
              "        vertical-align: middle;\n",
              "    }\n",
              "\n",
              "    .dataframe tbody tr th {\n",
              "        vertical-align: top;\n",
              "    }\n",
              "\n",
              "    .dataframe thead th {\n",
              "        text-align: right;\n",
              "    }\n",
              "</style>\n",
              "<table border=\"1\" class=\"dataframe\">\n",
              "  <thead>\n",
              "    <tr style=\"text-align: right;\">\n",
              "      <th></th>\n",
              "      <th>Дата отгрузки</th>\n",
              "      <th>Месяц отгрузки</th>\n",
              "      <th>Наименование товара</th>\n",
              "      <th>Итоговая стоимость товара</th>\n",
              "      <th>Количество</th>\n",
              "      <th>Кластер отгрузки</th>\n",
              "      <th>Кластер доставки</th>\n",
              "      <th>Склад отгрузки</th>\n",
              "      <th>Регион доставки</th>\n",
              "      <th>Город доставки</th>\n",
              "    </tr>\n",
              "  </thead>\n",
              "  <tbody>\n",
              "    <tr>\n",
              "      <th>343</th>\n",
              "      <td>2023-08-06 09:00:00</td>\n",
              "      <td>August</td>\n",
              "      <td>Экстракт трав в капсулах \"Друг вашей поджелудо...</td>\n",
              "      <td>855.0</td>\n",
              "      <td>1</td>\n",
              "      <td>Москва и МО</td>\n",
              "      <td>Ростов</td>\n",
              "      <td>ЖУКОВСКИЙ_РФЦ</td>\n",
              "      <td>Ростовская Область</td>\n",
              "      <td>Новочеркасск</td>\n",
              "    </tr>\n",
              "    <tr>\n",
              "      <th>220</th>\n",
              "      <td>2023-05-28 22:00:00</td>\n",
              "      <td>May</td>\n",
              "      <td>Чай травяной Друг Вашей поджелудочной железы ф...</td>\n",
              "      <td>159.0</td>\n",
              "      <td>1</td>\n",
              "      <td>Центр и дальние регионы</td>\n",
              "      <td>Москва ЮЗАО (Недействительный)</td>\n",
              "      <td>ПУШКИНО_1_РФЦ</td>\n",
              "      <td>Москва</td>\n",
              "      <td>Москва</td>\n",
              "    </tr>\n",
              "    <tr>\n",
              "      <th>938</th>\n",
              "      <td>2023-01-19 23:00:00</td>\n",
              "      <td>January</td>\n",
              "      <td>Чай травяной Друг Вашего давления ф/п 1.5г №20...</td>\n",
              "      <td>148.0</td>\n",
              "      <td>1</td>\n",
              "      <td>Санкт-Петербург и СЗО</td>\n",
              "      <td>Вологда</td>\n",
              "      <td>СПБ_БУГРЫ_РФЦ</td>\n",
              "      <td>Вологодская Область</td>\n",
              "      <td>Вологда</td>\n",
              "    </tr>\n",
              "    <tr>\n",
              "      <th>344</th>\n",
              "      <td>2023-08-07 01:00:00</td>\n",
              "      <td>August</td>\n",
              "      <td>Чай травяной Друг Вашего желудка ф/п 1.5г №20 ...</td>\n",
              "      <td>164.0</td>\n",
              "      <td>1</td>\n",
              "      <td>Санкт-Петербург и СЗО</td>\n",
              "      <td>Ленинградская область Север</td>\n",
              "      <td>СПБ_БУГРЫ_РФЦ</td>\n",
              "      <td>Ленинградская Область</td>\n",
              "      <td>Мурино</td>\n",
              "    </tr>\n",
              "    <tr>\n",
              "      <th>105</th>\n",
              "      <td>2023-08-25 22:00:00</td>\n",
              "      <td>August</td>\n",
              "      <td>Чай травяной Домбайский вальс Облепиха ф/п 1.5...</td>\n",
              "      <td>155.0</td>\n",
              "      <td>1</td>\n",
              "      <td>Юг</td>\n",
              "      <td>Воронеж</td>\n",
              "      <td>АДЫГЕЙСК_РФЦ</td>\n",
              "      <td>Воронежская Область</td>\n",
              "      <td>Воронеж</td>\n",
              "    </tr>\n",
              "  </tbody>\n",
              "</table>\n",
              "</div>\n",
              "    <div class=\"colab-df-buttons\">\n",
              "\n",
              "  <div class=\"colab-df-container\">\n",
              "    <button class=\"colab-df-convert\" onclick=\"convertToInteractive('df-f482fc7b-be6a-42f6-b461-9b5bfbe9d7ba')\"\n",
              "            title=\"Convert this dataframe to an interactive table.\"\n",
              "            style=\"display:none;\">\n",
              "\n",
              "  <svg xmlns=\"http://www.w3.org/2000/svg\" height=\"24px\" viewBox=\"0 -960 960 960\">\n",
              "    <path d=\"M120-120v-720h720v720H120Zm60-500h600v-160H180v160Zm220 220h160v-160H400v160Zm0 220h160v-160H400v160ZM180-400h160v-160H180v160Zm440 0h160v-160H620v160ZM180-180h160v-160H180v160Zm440 0h160v-160H620v160Z\"/>\n",
              "  </svg>\n",
              "    </button>\n",
              "\n",
              "  <style>\n",
              "    .colab-df-container {\n",
              "      display:flex;\n",
              "      gap: 12px;\n",
              "    }\n",
              "\n",
              "    .colab-df-convert {\n",
              "      background-color: #E8F0FE;\n",
              "      border: none;\n",
              "      border-radius: 50%;\n",
              "      cursor: pointer;\n",
              "      display: none;\n",
              "      fill: #1967D2;\n",
              "      height: 32px;\n",
              "      padding: 0 0 0 0;\n",
              "      width: 32px;\n",
              "    }\n",
              "\n",
              "    .colab-df-convert:hover {\n",
              "      background-color: #E2EBFA;\n",
              "      box-shadow: 0px 1px 2px rgba(60, 64, 67, 0.3), 0px 1px 3px 1px rgba(60, 64, 67, 0.15);\n",
              "      fill: #174EA6;\n",
              "    }\n",
              "\n",
              "    .colab-df-buttons div {\n",
              "      margin-bottom: 4px;\n",
              "    }\n",
              "\n",
              "    [theme=dark] .colab-df-convert {\n",
              "      background-color: #3B4455;\n",
              "      fill: #D2E3FC;\n",
              "    }\n",
              "\n",
              "    [theme=dark] .colab-df-convert:hover {\n",
              "      background-color: #434B5C;\n",
              "      box-shadow: 0px 1px 3px 1px rgba(0, 0, 0, 0.15);\n",
              "      filter: drop-shadow(0px 1px 2px rgba(0, 0, 0, 0.3));\n",
              "      fill: #FFFFFF;\n",
              "    }\n",
              "  </style>\n",
              "\n",
              "    <script>\n",
              "      const buttonEl =\n",
              "        document.querySelector('#df-f482fc7b-be6a-42f6-b461-9b5bfbe9d7ba button.colab-df-convert');\n",
              "      buttonEl.style.display =\n",
              "        google.colab.kernel.accessAllowed ? 'block' : 'none';\n",
              "\n",
              "      async function convertToInteractive(key) {\n",
              "        const element = document.querySelector('#df-f482fc7b-be6a-42f6-b461-9b5bfbe9d7ba');\n",
              "        const dataTable =\n",
              "          await google.colab.kernel.invokeFunction('convertToInteractive',\n",
              "                                                    [key], {});\n",
              "        if (!dataTable) return;\n",
              "\n",
              "        const docLinkHtml = 'Like what you see? Visit the ' +\n",
              "          '<a target=\"_blank\" href=https://colab.research.google.com/notebooks/data_table.ipynb>data table notebook</a>'\n",
              "          + ' to learn more about interactive tables.';\n",
              "        element.innerHTML = '';\n",
              "        dataTable['output_type'] = 'display_data';\n",
              "        await google.colab.output.renderOutput(dataTable, element);\n",
              "        const docLink = document.createElement('div');\n",
              "        docLink.innerHTML = docLinkHtml;\n",
              "        element.appendChild(docLink);\n",
              "      }\n",
              "    </script>\n",
              "  </div>\n",
              "\n",
              "\n",
              "<div id=\"df-2dd6077a-994a-4afe-bf1f-86e66a07452b\">\n",
              "  <button class=\"colab-df-quickchart\" onclick=\"quickchart('df-2dd6077a-994a-4afe-bf1f-86e66a07452b')\"\n",
              "            title=\"Suggest charts.\"\n",
              "            style=\"display:none;\">\n",
              "\n",
              "<svg xmlns=\"http://www.w3.org/2000/svg\" height=\"24px\"viewBox=\"0 0 24 24\"\n",
              "     width=\"24px\">\n",
              "    <g>\n",
              "        <path d=\"M19 3H5c-1.1 0-2 .9-2 2v14c0 1.1.9 2 2 2h14c1.1 0 2-.9 2-2V5c0-1.1-.9-2-2-2zM9 17H7v-7h2v7zm4 0h-2V7h2v10zm4 0h-2v-4h2v4z\"/>\n",
              "    </g>\n",
              "</svg>\n",
              "  </button>\n",
              "\n",
              "<style>\n",
              "  .colab-df-quickchart {\n",
              "      --bg-color: #E8F0FE;\n",
              "      --fill-color: #1967D2;\n",
              "      --hover-bg-color: #E2EBFA;\n",
              "      --hover-fill-color: #174EA6;\n",
              "      --disabled-fill-color: #AAA;\n",
              "      --disabled-bg-color: #DDD;\n",
              "  }\n",
              "\n",
              "  [theme=dark] .colab-df-quickchart {\n",
              "      --bg-color: #3B4455;\n",
              "      --fill-color: #D2E3FC;\n",
              "      --hover-bg-color: #434B5C;\n",
              "      --hover-fill-color: #FFFFFF;\n",
              "      --disabled-bg-color: #3B4455;\n",
              "      --disabled-fill-color: #666;\n",
              "  }\n",
              "\n",
              "  .colab-df-quickchart {\n",
              "    background-color: var(--bg-color);\n",
              "    border: none;\n",
              "    border-radius: 50%;\n",
              "    cursor: pointer;\n",
              "    display: none;\n",
              "    fill: var(--fill-color);\n",
              "    height: 32px;\n",
              "    padding: 0;\n",
              "    width: 32px;\n",
              "  }\n",
              "\n",
              "  .colab-df-quickchart:hover {\n",
              "    background-color: var(--hover-bg-color);\n",
              "    box-shadow: 0 1px 2px rgba(60, 64, 67, 0.3), 0 1px 3px 1px rgba(60, 64, 67, 0.15);\n",
              "    fill: var(--button-hover-fill-color);\n",
              "  }\n",
              "\n",
              "  .colab-df-quickchart-complete:disabled,\n",
              "  .colab-df-quickchart-complete:disabled:hover {\n",
              "    background-color: var(--disabled-bg-color);\n",
              "    fill: var(--disabled-fill-color);\n",
              "    box-shadow: none;\n",
              "  }\n",
              "\n",
              "  .colab-df-spinner {\n",
              "    border: 2px solid var(--fill-color);\n",
              "    border-color: transparent;\n",
              "    border-bottom-color: var(--fill-color);\n",
              "    animation:\n",
              "      spin 1s steps(1) infinite;\n",
              "  }\n",
              "\n",
              "  @keyframes spin {\n",
              "    0% {\n",
              "      border-color: transparent;\n",
              "      border-bottom-color: var(--fill-color);\n",
              "      border-left-color: var(--fill-color);\n",
              "    }\n",
              "    20% {\n",
              "      border-color: transparent;\n",
              "      border-left-color: var(--fill-color);\n",
              "      border-top-color: var(--fill-color);\n",
              "    }\n",
              "    30% {\n",
              "      border-color: transparent;\n",
              "      border-left-color: var(--fill-color);\n",
              "      border-top-color: var(--fill-color);\n",
              "      border-right-color: var(--fill-color);\n",
              "    }\n",
              "    40% {\n",
              "      border-color: transparent;\n",
              "      border-right-color: var(--fill-color);\n",
              "      border-top-color: var(--fill-color);\n",
              "    }\n",
              "    60% {\n",
              "      border-color: transparent;\n",
              "      border-right-color: var(--fill-color);\n",
              "    }\n",
              "    80% {\n",
              "      border-color: transparent;\n",
              "      border-right-color: var(--fill-color);\n",
              "      border-bottom-color: var(--fill-color);\n",
              "    }\n",
              "    90% {\n",
              "      border-color: transparent;\n",
              "      border-bottom-color: var(--fill-color);\n",
              "    }\n",
              "  }\n",
              "</style>\n",
              "\n",
              "  <script>\n",
              "    async function quickchart(key) {\n",
              "      const quickchartButtonEl =\n",
              "        document.querySelector('#' + key + ' button');\n",
              "      quickchartButtonEl.disabled = true;  // To prevent multiple clicks.\n",
              "      quickchartButtonEl.classList.add('colab-df-spinner');\n",
              "      try {\n",
              "        const charts = await google.colab.kernel.invokeFunction(\n",
              "            'suggestCharts', [key], {});\n",
              "      } catch (error) {\n",
              "        console.error('Error during call to suggestCharts:', error);\n",
              "      }\n",
              "      quickchartButtonEl.classList.remove('colab-df-spinner');\n",
              "      quickchartButtonEl.classList.add('colab-df-quickchart-complete');\n",
              "    }\n",
              "    (() => {\n",
              "      let quickchartButtonEl =\n",
              "        document.querySelector('#df-2dd6077a-994a-4afe-bf1f-86e66a07452b button');\n",
              "      quickchartButtonEl.style.display =\n",
              "        google.colab.kernel.accessAllowed ? 'block' : 'none';\n",
              "    })();\n",
              "  </script>\n",
              "</div>\n",
              "    </div>\n",
              "  </div>\n"
            ]
          },
          "metadata": {},
          "execution_count": 45
        }
      ]
    },
    {
      "cell_type": "markdown",
      "source": [
        "### Посчитаем статистику того, что можно считать: Стоимость и количество"
      ],
      "metadata": {
        "id": "dCJaEZpypYvw"
      }
    },
    {
      "cell_type": "code",
      "source": [
        "df.describe()"
      ],
      "metadata": {
        "colab": {
          "base_uri": "https://localhost:8080/",
          "height": 300
        },
        "id": "_w_yvJWoaX1Z",
        "outputId": "978a0b70-2028-4b03-dc48-084f1b8bb1fd"
      },
      "execution_count": 4,
      "outputs": [
        {
          "output_type": "execute_result",
          "data": {
            "text/plain": [
              "       Итоговая стоимость товара   Количество\n",
              "count                2606.000000  2606.000000\n",
              "mean                  202.860246     1.008442\n",
              "std                   131.283956     0.120483\n",
              "min                   108.000000     1.000000\n",
              "25%                   153.000000     1.000000\n",
              "50%                   163.000000     1.000000\n",
              "75%                   179.557500     1.000000\n",
              "max                   950.000000     5.000000"
            ],
            "text/html": [
              "\n",
              "  <div id=\"df-00f70366-a686-4146-9215-4b3cd499fb24\" class=\"colab-df-container\">\n",
              "    <div>\n",
              "<style scoped>\n",
              "    .dataframe tbody tr th:only-of-type {\n",
              "        vertical-align: middle;\n",
              "    }\n",
              "\n",
              "    .dataframe tbody tr th {\n",
              "        vertical-align: top;\n",
              "    }\n",
              "\n",
              "    .dataframe thead th {\n",
              "        text-align: right;\n",
              "    }\n",
              "</style>\n",
              "<table border=\"1\" class=\"dataframe\">\n",
              "  <thead>\n",
              "    <tr style=\"text-align: right;\">\n",
              "      <th></th>\n",
              "      <th>Итоговая стоимость товара</th>\n",
              "      <th>Количество</th>\n",
              "    </tr>\n",
              "  </thead>\n",
              "  <tbody>\n",
              "    <tr>\n",
              "      <th>count</th>\n",
              "      <td>2606.000000</td>\n",
              "      <td>2606.000000</td>\n",
              "    </tr>\n",
              "    <tr>\n",
              "      <th>mean</th>\n",
              "      <td>202.860246</td>\n",
              "      <td>1.008442</td>\n",
              "    </tr>\n",
              "    <tr>\n",
              "      <th>std</th>\n",
              "      <td>131.283956</td>\n",
              "      <td>0.120483</td>\n",
              "    </tr>\n",
              "    <tr>\n",
              "      <th>min</th>\n",
              "      <td>108.000000</td>\n",
              "      <td>1.000000</td>\n",
              "    </tr>\n",
              "    <tr>\n",
              "      <th>25%</th>\n",
              "      <td>153.000000</td>\n",
              "      <td>1.000000</td>\n",
              "    </tr>\n",
              "    <tr>\n",
              "      <th>50%</th>\n",
              "      <td>163.000000</td>\n",
              "      <td>1.000000</td>\n",
              "    </tr>\n",
              "    <tr>\n",
              "      <th>75%</th>\n",
              "      <td>179.557500</td>\n",
              "      <td>1.000000</td>\n",
              "    </tr>\n",
              "    <tr>\n",
              "      <th>max</th>\n",
              "      <td>950.000000</td>\n",
              "      <td>5.000000</td>\n",
              "    </tr>\n",
              "  </tbody>\n",
              "</table>\n",
              "</div>\n",
              "    <div class=\"colab-df-buttons\">\n",
              "\n",
              "  <div class=\"colab-df-container\">\n",
              "    <button class=\"colab-df-convert\" onclick=\"convertToInteractive('df-00f70366-a686-4146-9215-4b3cd499fb24')\"\n",
              "            title=\"Convert this dataframe to an interactive table.\"\n",
              "            style=\"display:none;\">\n",
              "\n",
              "  <svg xmlns=\"http://www.w3.org/2000/svg\" height=\"24px\" viewBox=\"0 -960 960 960\">\n",
              "    <path d=\"M120-120v-720h720v720H120Zm60-500h600v-160H180v160Zm220 220h160v-160H400v160Zm0 220h160v-160H400v160ZM180-400h160v-160H180v160Zm440 0h160v-160H620v160ZM180-180h160v-160H180v160Zm440 0h160v-160H620v160Z\"/>\n",
              "  </svg>\n",
              "    </button>\n",
              "\n",
              "  <style>\n",
              "    .colab-df-container {\n",
              "      display:flex;\n",
              "      gap: 12px;\n",
              "    }\n",
              "\n",
              "    .colab-df-convert {\n",
              "      background-color: #E8F0FE;\n",
              "      border: none;\n",
              "      border-radius: 50%;\n",
              "      cursor: pointer;\n",
              "      display: none;\n",
              "      fill: #1967D2;\n",
              "      height: 32px;\n",
              "      padding: 0 0 0 0;\n",
              "      width: 32px;\n",
              "    }\n",
              "\n",
              "    .colab-df-convert:hover {\n",
              "      background-color: #E2EBFA;\n",
              "      box-shadow: 0px 1px 2px rgba(60, 64, 67, 0.3), 0px 1px 3px 1px rgba(60, 64, 67, 0.15);\n",
              "      fill: #174EA6;\n",
              "    }\n",
              "\n",
              "    .colab-df-buttons div {\n",
              "      margin-bottom: 4px;\n",
              "    }\n",
              "\n",
              "    [theme=dark] .colab-df-convert {\n",
              "      background-color: #3B4455;\n",
              "      fill: #D2E3FC;\n",
              "    }\n",
              "\n",
              "    [theme=dark] .colab-df-convert:hover {\n",
              "      background-color: #434B5C;\n",
              "      box-shadow: 0px 1px 3px 1px rgba(0, 0, 0, 0.15);\n",
              "      filter: drop-shadow(0px 1px 2px rgba(0, 0, 0, 0.3));\n",
              "      fill: #FFFFFF;\n",
              "    }\n",
              "  </style>\n",
              "\n",
              "    <script>\n",
              "      const buttonEl =\n",
              "        document.querySelector('#df-00f70366-a686-4146-9215-4b3cd499fb24 button.colab-df-convert');\n",
              "      buttonEl.style.display =\n",
              "        google.colab.kernel.accessAllowed ? 'block' : 'none';\n",
              "\n",
              "      async function convertToInteractive(key) {\n",
              "        const element = document.querySelector('#df-00f70366-a686-4146-9215-4b3cd499fb24');\n",
              "        const dataTable =\n",
              "          await google.colab.kernel.invokeFunction('convertToInteractive',\n",
              "                                                    [key], {});\n",
              "        if (!dataTable) return;\n",
              "\n",
              "        const docLinkHtml = 'Like what you see? Visit the ' +\n",
              "          '<a target=\"_blank\" href=https://colab.research.google.com/notebooks/data_table.ipynb>data table notebook</a>'\n",
              "          + ' to learn more about interactive tables.';\n",
              "        element.innerHTML = '';\n",
              "        dataTable['output_type'] = 'display_data';\n",
              "        await google.colab.output.renderOutput(dataTable, element);\n",
              "        const docLink = document.createElement('div');\n",
              "        docLink.innerHTML = docLinkHtml;\n",
              "        element.appendChild(docLink);\n",
              "      }\n",
              "    </script>\n",
              "  </div>\n",
              "\n",
              "\n",
              "<div id=\"df-1d6f4d61-768b-4ee3-9f51-045630077da1\">\n",
              "  <button class=\"colab-df-quickchart\" onclick=\"quickchart('df-1d6f4d61-768b-4ee3-9f51-045630077da1')\"\n",
              "            title=\"Suggest charts.\"\n",
              "            style=\"display:none;\">\n",
              "\n",
              "<svg xmlns=\"http://www.w3.org/2000/svg\" height=\"24px\"viewBox=\"0 0 24 24\"\n",
              "     width=\"24px\">\n",
              "    <g>\n",
              "        <path d=\"M19 3H5c-1.1 0-2 .9-2 2v14c0 1.1.9 2 2 2h14c1.1 0 2-.9 2-2V5c0-1.1-.9-2-2-2zM9 17H7v-7h2v7zm4 0h-2V7h2v10zm4 0h-2v-4h2v4z\"/>\n",
              "    </g>\n",
              "</svg>\n",
              "  </button>\n",
              "\n",
              "<style>\n",
              "  .colab-df-quickchart {\n",
              "      --bg-color: #E8F0FE;\n",
              "      --fill-color: #1967D2;\n",
              "      --hover-bg-color: #E2EBFA;\n",
              "      --hover-fill-color: #174EA6;\n",
              "      --disabled-fill-color: #AAA;\n",
              "      --disabled-bg-color: #DDD;\n",
              "  }\n",
              "\n",
              "  [theme=dark] .colab-df-quickchart {\n",
              "      --bg-color: #3B4455;\n",
              "      --fill-color: #D2E3FC;\n",
              "      --hover-bg-color: #434B5C;\n",
              "      --hover-fill-color: #FFFFFF;\n",
              "      --disabled-bg-color: #3B4455;\n",
              "      --disabled-fill-color: #666;\n",
              "  }\n",
              "\n",
              "  .colab-df-quickchart {\n",
              "    background-color: var(--bg-color);\n",
              "    border: none;\n",
              "    border-radius: 50%;\n",
              "    cursor: pointer;\n",
              "    display: none;\n",
              "    fill: var(--fill-color);\n",
              "    height: 32px;\n",
              "    padding: 0;\n",
              "    width: 32px;\n",
              "  }\n",
              "\n",
              "  .colab-df-quickchart:hover {\n",
              "    background-color: var(--hover-bg-color);\n",
              "    box-shadow: 0 1px 2px rgba(60, 64, 67, 0.3), 0 1px 3px 1px rgba(60, 64, 67, 0.15);\n",
              "    fill: var(--button-hover-fill-color);\n",
              "  }\n",
              "\n",
              "  .colab-df-quickchart-complete:disabled,\n",
              "  .colab-df-quickchart-complete:disabled:hover {\n",
              "    background-color: var(--disabled-bg-color);\n",
              "    fill: var(--disabled-fill-color);\n",
              "    box-shadow: none;\n",
              "  }\n",
              "\n",
              "  .colab-df-spinner {\n",
              "    border: 2px solid var(--fill-color);\n",
              "    border-color: transparent;\n",
              "    border-bottom-color: var(--fill-color);\n",
              "    animation:\n",
              "      spin 1s steps(1) infinite;\n",
              "  }\n",
              "\n",
              "  @keyframes spin {\n",
              "    0% {\n",
              "      border-color: transparent;\n",
              "      border-bottom-color: var(--fill-color);\n",
              "      border-left-color: var(--fill-color);\n",
              "    }\n",
              "    20% {\n",
              "      border-color: transparent;\n",
              "      border-left-color: var(--fill-color);\n",
              "      border-top-color: var(--fill-color);\n",
              "    }\n",
              "    30% {\n",
              "      border-color: transparent;\n",
              "      border-left-color: var(--fill-color);\n",
              "      border-top-color: var(--fill-color);\n",
              "      border-right-color: var(--fill-color);\n",
              "    }\n",
              "    40% {\n",
              "      border-color: transparent;\n",
              "      border-right-color: var(--fill-color);\n",
              "      border-top-color: var(--fill-color);\n",
              "    }\n",
              "    60% {\n",
              "      border-color: transparent;\n",
              "      border-right-color: var(--fill-color);\n",
              "    }\n",
              "    80% {\n",
              "      border-color: transparent;\n",
              "      border-right-color: var(--fill-color);\n",
              "      border-bottom-color: var(--fill-color);\n",
              "    }\n",
              "    90% {\n",
              "      border-color: transparent;\n",
              "      border-bottom-color: var(--fill-color);\n",
              "    }\n",
              "  }\n",
              "</style>\n",
              "\n",
              "  <script>\n",
              "    async function quickchart(key) {\n",
              "      const quickchartButtonEl =\n",
              "        document.querySelector('#' + key + ' button');\n",
              "      quickchartButtonEl.disabled = true;  // To prevent multiple clicks.\n",
              "      quickchartButtonEl.classList.add('colab-df-spinner');\n",
              "      try {\n",
              "        const charts = await google.colab.kernel.invokeFunction(\n",
              "            'suggestCharts', [key], {});\n",
              "      } catch (error) {\n",
              "        console.error('Error during call to suggestCharts:', error);\n",
              "      }\n",
              "      quickchartButtonEl.classList.remove('colab-df-spinner');\n",
              "      quickchartButtonEl.classList.add('colab-df-quickchart-complete');\n",
              "    }\n",
              "    (() => {\n",
              "      let quickchartButtonEl =\n",
              "        document.querySelector('#df-1d6f4d61-768b-4ee3-9f51-045630077da1 button');\n",
              "      quickchartButtonEl.style.display =\n",
              "        google.colab.kernel.accessAllowed ? 'block' : 'none';\n",
              "    })();\n",
              "  </script>\n",
              "</div>\n",
              "    </div>\n",
              "  </div>\n"
            ]
          },
          "metadata": {},
          "execution_count": 4
        }
      ]
    },
    {
      "cell_type": "markdown",
      "source": [
        "### Выведем общую сумму продаж"
      ],
      "metadata": {
        "id": "2p7tZg2Dpjb2"
      }
    },
    {
      "cell_type": "code",
      "source": [
        "\n",
        "df['Итоговая стоимость товара'].sum()"
      ],
      "metadata": {
        "colab": {
          "base_uri": "https://localhost:8080/"
        },
        "id": "KKqSYnXNan4n",
        "outputId": "1de545e3-0490-458c-e28a-fb54695c6eef"
      },
      "execution_count": 5,
      "outputs": [
        {
          "output_type": "execute_result",
          "data": {
            "text/plain": [
              "528653.8"
            ]
          },
          "metadata": {},
          "execution_count": 5
        }
      ]
    },
    {
      "cell_type": "markdown",
      "source": [
        "### Дубликаты есть, потому названия товара повторяются"
      ],
      "metadata": {
        "id": "PWGcQj1nlb1I"
      }
    },
    {
      "cell_type": "code",
      "source": [
        "df.duplicated().sum()"
      ],
      "metadata": {
        "colab": {
          "base_uri": "https://localhost:8080/"
        },
        "id": "KQwTBmDalYjo",
        "outputId": "f8cc72d3-93a3-44ca-a07b-16b94ffd3e81"
      },
      "execution_count": 33,
      "outputs": [
        {
          "output_type": "execute_result",
          "data": {
            "text/plain": [
              "420"
            ]
          },
          "metadata": {},
          "execution_count": 33
        }
      ]
    },
    {
      "cell_type": "markdown",
      "source": [
        "### Ищем нулевые ячейки, нас интересует месяц отгрузки и дата отгрузки"
      ],
      "metadata": {
        "id": "yzU9XUH6l_gD"
      }
    },
    {
      "cell_type": "code",
      "source": [
        "df.isnull().sum().sort_values()"
      ],
      "metadata": {
        "colab": {
          "base_uri": "https://localhost:8080/"
        },
        "id": "Qrmbfaexl1bk",
        "outputId": "fae4c6a7-006b-4fb7-de98-3c5fa0d595f8"
      },
      "execution_count": 34,
      "outputs": [
        {
          "output_type": "execute_result",
          "data": {
            "text/plain": [
              "Наименование товара            0\n",
              "Итоговая стоимость товара      0\n",
              "Количество                     0\n",
              "Кластер доставки               0\n",
              "Склад отгрузки                 0\n",
              "Кластер отгрузки               6\n",
              "Дата отгрузки                 13\n",
              "Месяц отгрузки                13\n",
              "Регион доставки               14\n",
              "Город доставки               354\n",
              "dtype: int64"
            ]
          },
          "metadata": {},
          "execution_count": 34
        }
      ]
    },
    {
      "cell_type": "markdown",
      "source": [
        "В основном это последние продажи - сентябрь, заменим нулевые значения на сентябрь.\n",
        "Регион и город доставки, Кластер отгрузки могут быть не указаны"
      ],
      "metadata": {
        "id": "4YqlKb3kp3tp"
      }
    },
    {
      "cell_type": "code",
      "source": [
        "df['Месяц отгрузки'] = df['Месяц отгрузки']. fillna ('September')\n",
        "df['Дата отгрузки'] = df['Дата отгрузки']. fillna ('2023-09-01 01:00:00')\n",
        "df.isnull().sum().sort_values()"
      ],
      "metadata": {
        "colab": {
          "base_uri": "https://localhost:8080/"
        },
        "id": "qHAg_2kWmug2",
        "outputId": "0b4dbf8b-f220-4ae2-94d0-aea0b961a7f4"
      },
      "execution_count": 39,
      "outputs": [
        {
          "output_type": "execute_result",
          "data": {
            "text/plain": [
              "Дата отгрузки                  0\n",
              "Месяц отгрузки                 0\n",
              "Наименование товара            0\n",
              "Итоговая стоимость товара      0\n",
              "Количество                     0\n",
              "Кластер доставки               0\n",
              "Склад отгрузки                 0\n",
              "Кластер отгрузки               6\n",
              "Регион доставки               14\n",
              "Город доставки               354\n",
              "dtype: int64"
            ]
          },
          "metadata": {},
          "execution_count": 39
        }
      ]
    },
    {
      "cell_type": "markdown",
      "source": [
        "Склад отгрузки нет нулевых значений, посмотрим уникальные названия"
      ],
      "metadata": {
        "id": "GzkPm4SNqS2q"
      }
    },
    {
      "cell_type": "code",
      "source": [
        "df['Склад отгрузки'].unique()"
      ],
      "metadata": {
        "colab": {
          "base_uri": "https://localhost:8080/"
        },
        "id": "PoepCBEWa0ld",
        "outputId": "02b0737a-d4c0-4a6c-afd7-0164d3be1792"
      },
      "execution_count": 6,
      "outputs": [
        {
          "output_type": "execute_result",
          "data": {
            "text/plain": [
              "array(['АДЫГЕЙСК_РФЦ', 'СПБ_БУГРЫ_РФЦ', 'ЕКАТЕРИНБУРГ_РФЦ_НОВЫЙ',\n",
              "       'ПУШКИНО_2_РФЦ', 'САМАРА_РФЦ', 'ПУШКИНО_1_РФЦ', 'ВОРОНЕЖ_МРФЦ',\n",
              "       'НИЖНИЙ_НОВГОРОД_РФЦ', 'КАЗАНЬ_РФЦ_НОВЫЙ', 'РОСТОВ-НА-ДОНУ_РФЦ',\n",
              "       'НОВОСИБИРСК_РФЦ_НОВЫЙ', 'FRESH_MAX_РСТ_ШОЛОХОВО',\n",
              "       'САНКТ-ПЕТЕРБУРГ_РФЦ', 'КАЛИНИНГРАД_МРФЦ', 'НОВОРОССИЙСК_МРФЦ',\n",
              "       'FRESH_MAX_РСТ_ЗАПАДНЫЙ', 'КРАСНОЯРСК_МРФЦ', 'ХОРУГВИНО_РФЦ',\n",
              "       'FRESH_MAX_КДР_ПОНОМАРЕНКО', 'ТВЕРЬ_РФЦ', 'FRESH_MAX_ВЛГ_ЗЕМЛЯЧКИ',\n",
              "       'ЖУКОВСКИЙ_РФЦ', 'FRESH_MAX_КДР_МЕДИА_ПЛАЗА', 'СПБ_ШУШАРЫ_РФЦ'],\n",
              "      dtype=object)"
            ]
          },
          "metadata": {},
          "execution_count": 6
        }
      ]
    },
    {
      "cell_type": "markdown",
      "source": [
        "Посмотрим откуда больше всего отгружается товар и отсортируем его по убыванию"
      ],
      "metadata": {
        "id": "WguUdmC4quXZ"
      }
    },
    {
      "cell_type": "code",
      "source": [
        "sklad_otgruzki = df.groupby('Склад отгрузки')['Количество'].count()\n",
        "sklad_otgruzki.sort_values(ascending=False)"
      ],
      "metadata": {
        "colab": {
          "base_uri": "https://localhost:8080/"
        },
        "id": "hi-PRd6fa75u",
        "outputId": "0d478dd7-e1b2-4143-f66e-da766bfb3b16"
      },
      "execution_count": 7,
      "outputs": [
        {
          "output_type": "execute_result",
          "data": {
            "text/plain": [
              "Склад отгрузки\n",
              "ПУШКИНО_1_РФЦ                534\n",
              "САМАРА_РФЦ                   349\n",
              "СПБ_БУГРЫ_РФЦ                310\n",
              "ПУШКИНО_2_РФЦ                200\n",
              "ЖУКОВСКИЙ_РФЦ                191\n",
              "НИЖНИЙ_НОВГОРОД_РФЦ          190\n",
              "НОВОРОССИЙСК_МРФЦ            143\n",
              "ВОРОНЕЖ_МРФЦ                 125\n",
              "РОСТОВ-НА-ДОНУ_РФЦ           124\n",
              "ЕКАТЕРИНБУРГ_РФЦ_НОВЫЙ       105\n",
              "САНКТ-ПЕТЕРБУРГ_РФЦ          102\n",
              "АДЫГЕЙСК_РФЦ                  84\n",
              "ХОРУГВИНО_РФЦ                 45\n",
              "КАЗАНЬ_РФЦ_НОВЫЙ              33\n",
              "ТВЕРЬ_РФЦ                     29\n",
              "СПБ_ШУШАРЫ_РФЦ                27\n",
              "КРАСНОЯРСК_МРФЦ                6\n",
              "НОВОСИБИРСК_РФЦ_НОВЫЙ          2\n",
              "FRESH_MAX_КДР_ПОНОМАРЕНКО      2\n",
              "FRESH_MAX_КДР_МЕДИА_ПЛАЗА      1\n",
              "КАЛИНИНГРАД_МРФЦ               1\n",
              "FRESH_MAX_РСТ_ШОЛОХОВО         1\n",
              "FRESH_MAX_РСТ_ЗАПАДНЫЙ         1\n",
              "FRESH_MAX_ВЛГ_ЗЕМЛЯЧКИ         1\n",
              "Name: Количество, dtype: int64"
            ]
          },
          "metadata": {},
          "execution_count": 7
        }
      ]
    },
    {
      "cell_type": "markdown",
      "source": [
        "Регион доставки можем также отсортировать, 14 нулевых значений не играют большой роли, это скорее всего еще не доставленные товары"
      ],
      "metadata": {
        "id": "F5_mCi1Bq5XI"
      }
    },
    {
      "cell_type": "code",
      "source": [
        "reg_deliver = df.groupby(['Регион доставки'])['Количество'].count().sort_values(ascending=False)\n",
        "reg_deliver.head(20)"
      ],
      "metadata": {
        "colab": {
          "base_uri": "https://localhost:8080/"
        },
        "id": "wQCFw31RckV4",
        "outputId": "0ed3cee1-ead9-4e75-c384-346ca10f6379"
      },
      "execution_count": 8,
      "outputs": [
        {
          "output_type": "execute_result",
          "data": {
            "text/plain": [
              "Регион доставки\n",
              "Москва                            486\n",
              "Московская Область                436\n",
              "Краснодарский Край                225\n",
              "Санкт-Петербург                   217\n",
              "Ленинградская Область             112\n",
              "Ростовская Область                 93\n",
              "Татарстан Республика               79\n",
              "Самарская Область                  75\n",
              "Воронежская Область                65\n",
              "Нижегородская Область              53\n",
              "Волгоградская Область              47\n",
              "Крым Республика                    33\n",
              "Саратовская Область                32\n",
              "Вологодская Область                28\n",
              "Свердловская Область               27\n",
              "Башкортостан Республика            25\n",
              "Ульяновская Область                24\n",
              "Мурманская Область                 23\n",
              "Чувашская Республика - Чувашия     23\n",
              "Оренбургская Область               22\n",
              "Name: Количество, dtype: int64"
            ]
          },
          "metadata": {},
          "execution_count": 8
        }
      ]
    },
    {
      "cell_type": "markdown",
      "source": [
        "Проверим, что самое популярное из товара, отсортируем продажи по Наименованию и количеству продаж."
      ],
      "metadata": {
        "id": "oK4-Tqi4rJVB"
      }
    },
    {
      "cell_type": "code",
      "source": [
        "df.groupby('Наименование товара')['Количество'].count().sort_values(ascending=False)"
      ],
      "metadata": {
        "colab": {
          "base_uri": "https://localhost:8080/"
        },
        "id": "vMgqQFvKdCVk",
        "outputId": "21cb0d98-5e25-476b-fa94-c16a4c26344f"
      },
      "execution_count": 9,
      "outputs": [
        {
          "output_type": "execute_result",
          "data": {
            "text/plain": [
              "Наименование товара\n",
              "Чай травяной Друг Вашего желудка ф/п 1.5г №20 /20 пакетиков Фитосбор, фиточай, БАД                           391\n",
              "Чай травяной Друг Вашей поджелудочной железы ф/п 1.5г №20 / 20 пакетиков  Фитосбор, фиточай, БАД             301\n",
              "Чай травяной Друг Ваших почек ф/п 1.5г №20 /20 пакетиков Фитосбор, фиточай, БАД                              168\n",
              "Чай травяной Друг Вашей печени ф/п 1.5г №20 /20 пакетиков Фитосбор, фиточай, БАД                             141\n",
              "Чайный напиток травяной листья Брусники ф/п 1,5г №20/ 20 пакетиков  Фитосбор, фиточай, БАД, Травяной сбор    127\n",
              "Чай травяной Друг Вашего давления ф/п 1.5г №20 /20 пакетиков Фитосбор, фиточай, БАД                          123\n",
              "Чай травяной Друг Вашего сна ф/п 1.5г №20 / 20 пакетиков  Фитосбор, фиточай, БАД                             112\n",
              "Чай травяной Домбайский вальс Облепиха ф/п 1.5г №20 /20 пакетиков Фитосбор, фиточай                          110\n",
              "Чай травяной Друг Ваших бронхов ф/п 1.5г №20 /20 пакетиков Фитосбор, фиточай, БАД                             99\n",
              "Чай липы цветки 50г/ травяной сбор \"Целебная Поляна\"                                                          89\n",
              "Чай травяной Друг Вашего сердца ф/п 1.5г №20 /20 пакетиков Фитосбор, фиточай, БАД                             85\n",
              "Чай травяной детская линия Сказка на ночь ф/п 1.5г  /20 пакетиков Фитосбор, фиточай, БАД                      75\n",
              "Чай смородины лист 50г/ травяной сбор \"Целебная Поляна\"                                                       73\n",
              "Чай травяной Друг Ваших суставов ф/п 1.5г №20 /20 пакетиков Фитосбор, фиточай, БАД                            69\n",
              "Чай травяной Друг Вашей памяти ф/п 1.5г №20 / 20 пакетиков  Фитосбор, фиточай, БАД                            68\n",
              "Экстракт трав в капсулах \"Друг вашей поджелудочной железы\", 60 капсул, БАД                                    64\n",
              "Чай травяной Друг Вашего иммунитета ф/п 1.5г №20 /20 пакетиков Фитосбор, фиточай, БАД                         45\n",
              "Чай травяной Женская линия Леди стройность ф/п 1.5г №20 /20 пакетиков Фитосбор, фиточай, БАД                  43\n",
              "Чай травяной Домбайский вальс Шиповник ф/п 1.5г №20 /20 пакетиков Фитосбор, фиточай, БАД                      42\n",
              "Чай травяной Домбайский вальс Лесные ягоды ф/п 1.5г №20 / 20 пакетиков Фитосбор, фиточай, БАД                 41\n",
              "Чай эхинацеи трава 50г/ травяной сбор \"Целебная Поляна\"                                                       41\n",
              "Чай травяной детская линия Комфорт в боботике ф/п 1.5г №20 /20 пакетиков Фитосбор, фиточай, БАД               40\n",
              "Фитосбор \"Успокаивающий\", 2 пачки по 20 фильтр-пакетов травяного чая                                          35\n",
              "Чай ромашки цветки 50г/ травяной сбор \"Целебная Поляна\"                                                       32\n",
              "Фитосбор \"Для печени\", 2 пачки по 20 фильтр-пакетов травяного чая                                             29\n",
              "Чай травяной Имбирь с облепихой ф/п 1.5г №20 /20 пакетиков Фитосбор, фиточай, БАД                             26\n",
              "Экстракт трав в капсулах \"Друг ваших почек\", 60 капсул, БАД                                                   23\n",
              "Фитосбор \"Иммунофит\", 2 пачки по 20 фильтр-пакетов травяного чая                                              21\n",
              "Чай мяты перечной листья 50г/ травяной сбор \"Целебная Поляна\"                                                 15\n",
              "Экстракт трав в капсулах \"Друг вашей печени\", 60 капсул, БАД                                                  15\n",
              "Чай травяной Имбирь со стевией ф/п 1.5г №20 /20 пакетиков Фитосбор, фиточай, БАД                              13\n",
              "Фитосбор \"Здоровое горло\", 2 пачки по 20 фильтр-пакетов травяного чая                                         11\n",
              "Фитосбор \"Фитосулин\", 2 пачки по 20 фильтр-пакетов травяного чая                                              10\n",
              "Фитосбор \"Для почек\", 2 пачки по 20 фильтр-пакетов травяного чая                                               8\n",
              "Чай травяной Женская линия Лактомол ф/п 1.5г №20 /20 пакетиков Фитосбор, фиточай, БАД                          7\n",
              "Чай чабреца трава 50г/ травяной сбор \"Целебная Поляна\"                                                         6\n",
              "Чай травяной Женская линия ГиноStop ф/п 1.5г №20 / 20 пакетиков  Фитосбор, фиточай, БАД                        3\n",
              "Чай гибискуса цветки 50г/ травяной сбор \"Целебная Поляна\"                                                      3\n",
              "Чай травяной Женская линия Stopмаст ф/п 1.5г №20 /20 пакетиков Фитосбор, фиточай, БАД                          2\n",
              "Name: Количество, dtype: int64"
            ]
          },
          "metadata": {},
          "execution_count": 9
        }
      ]
    },
    {
      "cell_type": "markdown",
      "source": [
        "### Отсортируем Товар по сумме продаж."
      ],
      "metadata": {
        "id": "DAGjZFy5ruGm"
      }
    },
    {
      "cell_type": "code",
      "source": [
        "df.groupby('Наименование товара')['Итоговая стоимость товара'].sum().sort_values(ascending=False)"
      ],
      "metadata": {
        "colab": {
          "base_uri": "https://localhost:8080/"
        },
        "id": "weHPaouPrbag",
        "outputId": "2a105478-ab59-4599-c845-bfe517243b42"
      },
      "execution_count": 48,
      "outputs": [
        {
          "output_type": "execute_result",
          "data": {
            "text/plain": [
              "Наименование товара\n",
              "Чай травяной Друг Вашего желудка ф/п 1.5г №20 /20 пакетиков Фитосбор, фиточай, БАД                           62320.04\n",
              "Экстракт трав в капсулах \"Друг вашей поджелудочной железы\", 60 капсул, БАД                                   51193.34\n",
              "Чай травяной Друг Вашей поджелудочной железы ф/п 1.5г №20 / 20 пакетиков  Фитосбор, фиточай, БАД             48177.75\n",
              "Чай липы цветки 50г/ травяной сбор \"Целебная Поляна\"                                                         27675.00\n",
              "Чай травяной Друг Ваших почек ф/п 1.5г №20 /20 пакетиков Фитосбор, фиточай, БАД                              27213.33\n",
              "Чай травяной Друг Вашей печени ф/п 1.5г №20 /20 пакетиков Фитосбор, фиточай, БАД                             23156.47\n",
              "Чайный напиток травяной листья Брусники ф/п 1,5г №20/ 20 пакетиков  Фитосбор, фиточай, БАД, Травяной сбор    21161.60\n",
              "Чай травяной Друг Вашего давления ф/п 1.5г №20 /20 пакетиков Фитосбор, фиточай, БАД                          19632.85\n",
              "Экстракт трав в капсулах \"Друг ваших почек\", 60 капсул, БАД                                                  18417.32\n",
              "Чай травяной Друг Вашего сна ф/п 1.5г №20 / 20 пакетиков  Фитосбор, фиточай, БАД                             17868.94\n",
              "Чай травяной Домбайский вальс Облепиха ф/п 1.5г №20 /20 пакетиков Фитосбор, фиточай                          17498.78\n",
              "Чай смородины лист 50г/ травяной сбор \"Целебная Поляна\"                                                      17334.48\n",
              "Чай травяной Друг Ваших бронхов ф/п 1.5г №20 /20 пакетиков Фитосбор, фиточай, БАД                            16005.13\n",
              "Чай травяной Друг Вашего сердца ф/п 1.5г №20 /20 пакетиков Фитосбор, фиточай, БАД                            13885.84\n",
              "Чай травяной детская линия Сказка на ночь ф/п 1.5г  /20 пакетиков Фитосбор, фиточай, БАД                     12583.00\n",
              "Экстракт трав в капсулах \"Друг вашей печени\", 60 капсул, БАД                                                 12549.39\n",
              "Чай травяной Друг Ваших суставов ф/п 1.5г №20 /20 пакетиков Фитосбор, фиточай, БАД                           11460.15\n",
              "Чай травяной Друг Вашей памяти ф/п 1.5г №20 / 20 пакетиков  Фитосбор, фиточай, БАД                           10561.51\n",
              "Фитосбор \"Успокаивающий\", 2 пачки по 20 фильтр-пакетов травяного чая                                         10424.18\n",
              "Чай эхинацеи трава 50г/ травяной сбор \"Целебная Поляна\"                                                       9494.62\n",
              "Фитосбор \"Для печени\", 2 пачки по 20 фильтр-пакетов травяного чая                                             9146.09\n",
              "Чай ромашки цветки 50г/ травяной сбор \"Целебная Поляна\"                                                       8596.05\n",
              "Чай травяной Друг Вашего иммунитета ф/п 1.5г №20 /20 пакетиков Фитосбор, фиточай, БАД                         7057.99\n",
              "Чай травяной Женская линия Леди стройность ф/п 1.5г №20 /20 пакетиков Фитосбор, фиточай, БАД                  7021.90\n",
              "Чай травяной Домбайский вальс Шиповник ф/п 1.5г №20 /20 пакетиков Фитосбор, фиточай, БАД                      6658.30\n",
              "Чай травяной Домбайский вальс Лесные ягоды ф/п 1.5г №20 / 20 пакетиков Фитосбор, фиточай, БАД                 6474.69\n",
              "Фитосбор \"Иммунофит\", 2 пачки по 20 фильтр-пакетов травяного чая                                              6428.50\n",
              "Чай травяной детская линия Комфорт в боботике ф/п 1.5г №20 /20 пакетиков Фитосбор, фиточай, БАД               6302.65\n",
              "Чай травяной Имбирь с облепихой ф/п 1.5г №20 /20 пакетиков Фитосбор, фиточай, БАД                             3990.00\n",
              "Чай мяты перечной листья 50г/ травяной сбор \"Целебная Поляна\"                                                 3609.43\n",
              "Фитосбор \"Здоровое горло\", 2 пачки по 20 фильтр-пакетов травяного чая                                         3297.03\n",
              "Фитосбор \"Фитосулин\", 2 пачки по 20 фильтр-пакетов травяного чая                                              3013.00\n",
              "Фитосбор \"Для почек\", 2 пачки по 20 фильтр-пакетов травяного чая                                              2361.12\n",
              "Чай травяной Имбирь со стевией ф/п 1.5г №20 /20 пакетиков Фитосбор, фиточай, БАД                              2001.00\n",
              "Чай чабреца трава 50г/ травяной сбор \"Целебная Поляна\"                                                        1572.38\n",
              "Чай травяной Женская линия Лактомол ф/п 1.5г №20 /20 пакетиков Фитосбор, фиточай, БАД                          975.00\n",
              "Чай гибискуса цветки 50г/ травяной сбор \"Целебная Поляна\"                                                      843.95\n",
              "Чай травяной Женская линия ГиноStop ф/п 1.5г №20 / 20 пакетиков  Фитосбор, фиточай, БАД                        417.00\n",
              "Чай травяной Женская линия Stopмаст ф/п 1.5г №20 /20 пакетиков Фитосбор, фиточай, БАД                          274.00\n",
              "Name: Итоговая стоимость товара, dtype: float64"
            ]
          },
          "metadata": {},
          "execution_count": 48
        }
      ]
    },
    {
      "cell_type": "markdown",
      "source": [
        "Проверим куда больше отправляют товар, отсортируем Наименование и регион доставки"
      ],
      "metadata": {
        "id": "VXzpA6LmsObn"
      }
    },
    {
      "cell_type": "code",
      "source": [
        "name_region = df.groupby(['Наименование товара', 'Регион доставки'])['Количество'].count()\n",
        "name_region.head(50)\n"
      ],
      "metadata": {
        "colab": {
          "base_uri": "https://localhost:8080/"
        },
        "id": "IrKB8TGydlwI",
        "outputId": "b7118798-5128-43ee-ff37-4c82664e5b9d"
      },
      "execution_count": 10,
      "outputs": [
        {
          "output_type": "execute_result",
          "data": {
            "text/plain": [
              "Наименование товара                                                    Регион доставки               \n",
              "Фитосбор \"Для печени\", 2 пачки по 20 фильтр-пакетов травяного чая      Брянская Область                  2\n",
              "                                                                       Владимирская Область              1\n",
              "                                                                       Волгоградская Область             1\n",
              "                                                                       Калининградская Область           1\n",
              "                                                                       Калужская Область                 1\n",
              "                                                                       Краснодарский Край                2\n",
              "                                                                       Москва                            2\n",
              "                                                                       Московская Область                3\n",
              "                                                                       Республика Марий Эл               1\n",
              "                                                                       Ростовская Область                2\n",
              "                                                                       Самарская Область                 1\n",
              "                                                                       Санкт-Петербург                   4\n",
              "                                                                       Саратовская Область               1\n",
              "                                                                       Татарстан Республика              2\n",
              "                                                                       Томская Область                   1\n",
              "                                                                       Тюменская Область                 2\n",
              "                                                                       Ульяновская Область               1\n",
              "Фитосбор \"Для почек\", 2 пачки по 20 фильтр-пакетов травяного чая       Волгоградская Область             2\n",
              "                                                                       Калининградская Область           1\n",
              "                                                                       Краснодарский Край                1\n",
              "                                                                       Ленинградская Область             1\n",
              "                                                                       Москва                            2\n",
              "                                                                       Санкт-Петербург                   1\n",
              "Фитосбор \"Здоровое горло\", 2 пачки по 20 фильтр-пакетов травяного чая  Белгородская Область              2\n",
              "                                                                       Вологодская Область               1\n",
              "                                                                       Ленинградская Область             1\n",
              "                                                                       Московская Область                2\n",
              "                                                                       Мурманская Область                1\n",
              "                                                                       Нижегородская Область             1\n",
              "                                                                       Ростовская Область                1\n",
              "                                                                       Ульяновская Область               1\n",
              "                                                                       Чувашская Республика - Чувашия    1\n",
              "Фитосбор \"Иммунофит\", 2 пачки по 20 фильтр-пакетов травяного чая       Воронежская Область               2\n",
              "                                                                       Краснодарский Край                3\n",
              "                                                                       Курская Область                   1\n",
              "                                                                       Ленинградская Область             1\n",
              "                                                                       Москва                            1\n",
              "                                                                       Московская Область                4\n",
              "                                                                       Самарская Область                 2\n",
              "                                                                       Санкт-Петербург                   5\n",
              "                                                                       Смоленская Область                1\n",
              "                                                                       Тюменская Область                 1\n",
              "Фитосбор \"Успокаивающий\", 2 пачки по 20 фильтр-пакетов травяного чая   Воронежская Область               1\n",
              "                                                                       Кемеровская область - Кузбасс     1\n",
              "                                                                       Краснодарский Край                3\n",
              "                                                                       Крым Республика                   1\n",
              "                                                                       Ленинградская Область             2\n",
              "                                                                       Москва                            5\n",
              "                                                                       Московская Область                3\n",
              "                                                                       Нижегородская Область             1\n",
              "Name: Количество, dtype: int64"
            ]
          },
          "metadata": {},
          "execution_count": 10
        }
      ]
    },
    {
      "cell_type": "markdown",
      "source": [
        "Еще один параметр - склад отгрузки. Какой товар больше отправляют с какого склада."
      ],
      "metadata": {
        "id": "TlwYnKEGsdsu"
      }
    },
    {
      "cell_type": "code",
      "source": [
        "name_sklad = df.groupby(['Наименование товара', 'Склад отгрузки'])['Количество'].count()\n",
        "name_sklad.head(50)"
      ],
      "metadata": {
        "colab": {
          "base_uri": "https://localhost:8080/"
        },
        "id": "iLLJwGUSctn9",
        "outputId": "216cd0b2-b4eb-4930-bad0-c036e627767d"
      },
      "execution_count": 11,
      "outputs": [
        {
          "output_type": "execute_result",
          "data": {
            "text/plain": [
              "Наименование товара                                                    Склад отгрузки        \n",
              "Фитосбор \"Для печени\", 2 пачки по 20 фильтр-пакетов травяного чая      КАЗАНЬ_РФЦ_НОВЫЙ          10\n",
              "                                                                       НОВОРОССИЙСК_МРФЦ          2\n",
              "                                                                       ПУШКИНО_1_РФЦ              1\n",
              "                                                                       ПУШКИНО_2_РФЦ              3\n",
              "                                                                       САМАРА_РФЦ                 6\n",
              "                                                                       СПБ_БУГРЫ_РФЦ              6\n",
              "                                                                       СПБ_ШУШАРЫ_РФЦ             1\n",
              "Фитосбор \"Для почек\", 2 пачки по 20 фильтр-пакетов травяного чая       НОВОРОССИЙСК_МРФЦ          2\n",
              "                                                                       ПУШКИНО_1_РФЦ              2\n",
              "                                                                       САМАРА_РФЦ                 1\n",
              "                                                                       СПБ_БУГРЫ_РФЦ              2\n",
              "                                                                       СПБ_ШУШАРЫ_РФЦ             1\n",
              "Фитосбор \"Здоровое горло\", 2 пачки по 20 фильтр-пакетов травяного чая  АДЫГЕЙСК_РФЦ               1\n",
              "                                                                       КАЗАНЬ_РФЦ_НОВЫЙ           5\n",
              "                                                                       САМАРА_РФЦ                 2\n",
              "                                                                       СПБ_БУГРЫ_РФЦ              3\n",
              "Фитосбор \"Иммунофит\", 2 пачки по 20 фильтр-пакетов травяного чая       ЕКАТЕРИНБУРГ_РФЦ_НОВЫЙ     1\n",
              "                                                                       ЖУКОВСКИЙ_РФЦ              1\n",
              "                                                                       НОВОРОССИЙСК_МРФЦ          2\n",
              "                                                                       ПУШКИНО_1_РФЦ              4\n",
              "                                                                       ПУШКИНО_2_РФЦ              2\n",
              "                                                                       САМАРА_РФЦ                 5\n",
              "                                                                       СПБ_БУГРЫ_РФЦ              6\n",
              "Фитосбор \"Успокаивающий\", 2 пачки по 20 фильтр-пакетов травяного чая   АДЫГЕЙСК_РФЦ               2\n",
              "                                                                       ЖУКОВСКИЙ_РФЦ              2\n",
              "                                                                       КАЗАНЬ_РФЦ_НОВЫЙ           5\n",
              "                                                                       НОВОРОССИЙСК_МРФЦ          3\n",
              "                                                                       ПУШКИНО_1_РФЦ              4\n",
              "                                                                       ПУШКИНО_2_РФЦ              4\n",
              "                                                                       САМАРА_РФЦ                 6\n",
              "                                                                       САНКТ-ПЕТЕРБУРГ_РФЦ        3\n",
              "                                                                       СПБ_БУГРЫ_РФЦ              2\n",
              "                                                                       СПБ_ШУШАРЫ_РФЦ             2\n",
              "                                                                       ТВЕРЬ_РФЦ                  2\n",
              "Фитосбор \"Фитосулин\", 2 пачки по 20 фильтр-пакетов травяного чая       САМАРА_РФЦ                 4\n",
              "                                                                       САНКТ-ПЕТЕРБУРГ_РФЦ        1\n",
              "                                                                       СПБ_БУГРЫ_РФЦ              5\n",
              "Чай гибискуса цветки 50г/ травяной сбор \"Целебная Поляна\"              НИЖНИЙ_НОВГОРОД_РФЦ        1\n",
              "                                                                       САНКТ-ПЕТЕРБУРГ_РФЦ        1\n",
              "                                                                       ХОРУГВИНО_РФЦ              1\n",
              "Чай липы цветки 50г/ травяной сбор \"Целебная Поляна\"                   ВОРОНЕЖ_МРФЦ              14\n",
              "                                                                       ЕКАТЕРИНБУРГ_РФЦ_НОВЫЙ     3\n",
              "                                                                       НИЖНИЙ_НОВГОРОД_РФЦ        4\n",
              "                                                                       НОВОРОССИЙСК_МРФЦ          2\n",
              "                                                                       ПУШКИНО_1_РФЦ             32\n",
              "                                                                       ПУШКИНО_2_РФЦ             12\n",
              "                                                                       РОСТОВ-НА-ДОНУ_РФЦ         4\n",
              "                                                                       САМАРА_РФЦ                 5\n",
              "                                                                       СПБ_БУГРЫ_РФЦ             13\n",
              "Чай мяты перечной листья 50г/ травяной сбор \"Целебная Поляна\"          ЕКАТЕРИНБУРГ_РФЦ_НОВЫЙ     2\n",
              "Name: Количество, dtype: int64"
            ]
          },
          "metadata": {},
          "execution_count": 11
        }
      ]
    },
    {
      "cell_type": "markdown",
      "source": [
        "Применим сортировку по месяцам, изначально сортировка была по алфавиту, что не очень удобно."
      ],
      "metadata": {
        "id": "lyNLhzlCs4Gk"
      }
    },
    {
      "cell_type": "code",
      "source": [
        "\n",
        "df['Дата отгрузки'] = pd.to_datetime(df['Дата отгрузки'], format=\"%Y-%m-%dT%H:%M:%S\")\n",
        "df['Месяц отгрузки'] = df['Месяц отгрузки'].fillna('September')\n",
        "# df.insert(1, 'Месяц отгрузки', df['Дата отгрузки'].dt.month_name())\n",
        "months = ['January', 'February', 'March', 'April', 'May', 'June', 'July', 'August', 'September', 'October', 'November', 'December']\n",
        "df['Месяц отгрузки'] = pd.Categorical(df['Месяц отгрузки'], categories=months, ordered=True)\n"
      ],
      "metadata": {
        "id": "eaihU5Eii8jw"
      },
      "execution_count": 38,
      "outputs": []
    },
    {
      "cell_type": "markdown",
      "source": [
        "теперь можем видеть количество товара отгруженного по месяцам"
      ],
      "metadata": {
        "id": "PpGBPS1QtIZR"
      }
    },
    {
      "cell_type": "code",
      "source": [
        "df.sort_values(by='Месяц отгрузки', ascending=True).groupby(['Месяц отгрузки'])['Количество'].count()"
      ],
      "metadata": {
        "colab": {
          "base_uri": "https://localhost:8080/"
        },
        "id": "wDUlvJhguqbU",
        "outputId": "b9310c9c-0df3-4319-bd60-7dc632d81aba"
      },
      "execution_count": 51,
      "outputs": [
        {
          "output_type": "execute_result",
          "data": {
            "text/plain": [
              "Месяц отгрузки\n",
              "January      459\n",
              "February     372\n",
              "March        381\n",
              "April        253\n",
              "May          243\n",
              "June         187\n",
              "July         303\n",
              "August       376\n",
              "September     32\n",
              "October        0\n",
              "November       0\n",
              "December       0\n",
              "Name: Количество, dtype: int64"
            ]
          },
          "metadata": {},
          "execution_count": 51
        }
      ]
    },
    {
      "cell_type": "code",
      "source": [
        "df.sort_values(by='Месяц отгрузки', ascending=True).groupby(['Месяц отгрузки'])['Количество'].count().plot()"
      ],
      "metadata": {
        "colab": {
          "base_uri": "https://localhost:8080/",
          "height": 467
        },
        "id": "A8IC89NCk-Mt",
        "outputId": "4f6217e6-941d-44c0-aa49-5a0cf5ceae00"
      },
      "execution_count": 55,
      "outputs": [
        {
          "output_type": "execute_result",
          "data": {
            "text/plain": [
              "<Axes: xlabel='Месяц отгрузки'>"
            ]
          },
          "metadata": {},
          "execution_count": 55
        },
        {
          "output_type": "display_data",
          "data": {
            "text/plain": [
              "<Figure size 640x480 with 1 Axes>"
            ],
            "image/png": "[encoded data removed]"
          },
          "metadata": {}
        }
      ]
    },
    {
      "cell_type": "markdown",
      "source": [
        "а также сумму, не всегда большее количество соответсвует большей сумме"
      ],
      "metadata": {
        "id": "AyB94SY7tUXr"
      }
    },
    {
      "cell_type": "code",
      "source": [
        "df.sort_values(by='Месяц отгрузки', ascending=True).groupby(['Месяц отгрузки'])['Итоговая стоимость товара'].sum()"
      ],
      "metadata": {
        "colab": {
          "base_uri": "https://localhost:8080/"
        },
        "id": "Y2YTHUyj56Te",
        "outputId": "bb38be21-bf7c-4fd3-b80f-f3280cc3908c"
      },
      "execution_count": 41,
      "outputs": [
        {
          "output_type": "execute_result",
          "data": {
            "text/plain": [
              "Месяц отгрузки\n",
              "January      81841.00\n",
              "February     84776.18\n",
              "March        74191.38\n",
              "April        50470.82\n",
              "May          46445.00\n",
              "June         42635.50\n",
              "July         67034.25\n",
              "August       75763.00\n",
              "September     5496.67\n",
              "October          0.00\n",
              "November         0.00\n",
              "December         0.00\n",
              "Name: Итоговая стоимость товара, dtype: float64"
            ]
          },
          "metadata": {},
          "execution_count": 41
        }
      ]
    },
    {
      "cell_type": "code",
      "source": [
        "df.sort_values(by='Месяц отгрузки', ascending=True).groupby(['Месяц отгрузки'])['Итоговая стоимость товара'].sum().plot()"
      ],
      "metadata": {
        "colab": {
          "base_uri": "https://localhost:8080/",
          "height": 467
        },
        "id": "6iyxBmu4vLmX",
        "outputId": "d1ee9ed2-7515-4932-b658-f2810ac06b96"
      },
      "execution_count": 56,
      "outputs": [
        {
          "output_type": "execute_result",
          "data": {
            "text/plain": [
              "<Axes: xlabel='Месяц отгрузки'>"
            ]
          },
          "metadata": {},
          "execution_count": 56
        },
        {
          "output_type": "display_data",
          "data": {
            "text/plain": [
              "<Figure size 640x480 with 1 Axes>"
            ],
            "image/png": "[encoded data removed]"
          },
          "metadata": {}
        }
      ]
    },
    {
      "cell_type": "markdown",
      "source": [
        "Также можно вывести отдельно по каждой позиции статистику по месяцам: Количество и Сумму."
      ],
      "metadata": {
        "id": "okvi-LMttjpu"
      }
    },
    {
      "cell_type": "code",
      "source": [
        "df.groupby([df['Наименование товара'] == 'Чай травяной Друг Вашего желудка ф/п 1.5г №20 /20 пакетиков Фитосбор, фиточай, БАД', 'Месяц отгрузки'])['Количество'].count()"
      ],
      "metadata": {
        "colab": {
          "base_uri": "https://localhost:8080/"
        },
        "id": "vqkC7EuHm7XM",
        "outputId": "d8cd459a-b9a4-4948-bb9a-3d89bb1f8eab"
      },
      "execution_count": 42,
      "outputs": [
        {
          "output_type": "execute_result",
          "data": {
            "text/plain": [
              "Наименование товара  Месяц отгрузки\n",
              "False                January           403\n",
              "                     February          338\n",
              "                     March             317\n",
              "                     April             197\n",
              "                     May               214\n",
              "                     June              156\n",
              "                     July              250\n",
              "                     August            318\n",
              "                     September          22\n",
              "                     October             0\n",
              "                     November            0\n",
              "                     December            0\n",
              "True                 January            56\n",
              "                     February           34\n",
              "                     March              64\n",
              "                     April              56\n",
              "                     May                29\n",
              "                     June               31\n",
              "                     July               53\n",
              "                     August             58\n",
              "                     September          10\n",
              "                     October             0\n",
              "                     November            0\n",
              "                     December            0\n",
              "Name: Количество, dtype: int64"
            ]
          },
          "metadata": {},
          "execution_count": 42
        }
      ]
    },
    {
      "cell_type": "code",
      "source": [
        "df.groupby([df['Наименование товара'] == 'Чай травяной Друг Вашего желудка ф/п 1.5г №20 /20 пакетиков Фитосбор, фиточай, БАД', 'Месяц отгрузки'])['Итоговая стоимость товара'].sum()"
      ],
      "metadata": {
        "colab": {
          "base_uri": "https://localhost:8080/"
        },
        "id": "zzi7aX645jmt",
        "outputId": "e6e39ace-bfe0-4897-c07a-9258fbdfe2b3"
      },
      "execution_count": 43,
      "outputs": [
        {
          "output_type": "execute_result",
          "data": {
            "text/plain": [
              "Наименование товара  Месяц отгрузки\n",
              "False                January           73468.00\n",
              "                     February          78703.66\n",
              "                     March             64296.02\n",
              "                     April             41935.34\n",
              "                     May               41955.06\n",
              "                     June              37462.00\n",
              "                     July              58323.26\n",
              "                     August            66312.42\n",
              "                     September          3878.00\n",
              "                     October               0.00\n",
              "                     November              0.00\n",
              "                     December              0.00\n",
              "True                 January            8373.00\n",
              "                     February           6072.52\n",
              "                     March              9895.36\n",
              "                     April              8535.48\n",
              "                     May                4489.94\n",
              "                     June               5173.50\n",
              "                     July               8710.99\n",
              "                     August             9450.58\n",
              "                     September          1618.67\n",
              "                     October               0.00\n",
              "                     November              0.00\n",
              "                     December              0.00\n",
              "Name: Итоговая стоимость товара, dtype: float64"
            ]
          },
          "metadata": {},
          "execution_count": 43
        }
      ]
    }
  ]
}